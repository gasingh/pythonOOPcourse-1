{
 "cells": [
  {
   "cell_type": "markdown",
   "metadata": {},
   "source": [
    "# Chapter 03 | Magic Object Methods"
   ]
  },
  {
   "cell_type": "markdown",
   "metadata": {},
   "source": [
    "### Intro"
   ]
  },
  {
   "cell_type": "markdown",
   "metadata": {},
   "source": [
    "1. These are a set of methods that python automatically associates with every class definition.\n",
    "2. Your classes can override these methods to customize a variety of behaviour and make them act just like Python's built-in classes.\n",
    "3. Not all methods are covered, but only the most useful and commonly employed are studied here.\n",
    "4. Common use cases are:\n",
    "   1. To define how objects are represented as strings. (both for display to the user and for debugging purposes)\n",
    "   2. You can control how attribrutes are accessed on an object. (both for when they are set and when they are retrieved)\n",
    "   3. You can add capabilities to your classes that enale them to be used in expressions. Such as testing for equality, or other comparison operators like  greater than and less than.\n",
    "   4. We also study how to make an object callable, just like a function; and how that can be used to make code more concise and readable."
   ]
  },
  {
   "cell_type": "markdown",
   "metadata": {},
   "source": [
    "### 3.1 Magic Methods to generate string representation of Objects"
   ]
  },
  {
   "cell_type": "code",
   "execution_count": null,
   "metadata": {},
   "outputs": [],
   "source": [
    "\"\"\"\n",
    "3.1.1\n",
    "using __str__ and __repr__ magic methods\n",
    "\"\"\"\n",
    "\n",
    "class Book:\n",
    "    def __init__(self, title, author, price):\n",
    "        super().__init__()\n",
    "        self.title = title\n",
    "        self.author = author\n",
    "        self.price = price\n",
    "\n",
    "# TODO: Use the __str__ method to return a string\n",
    "# TODO: Use the __repr__ method to return an object representation \n",
    "\n",
    "b1 = Book(\"War and Peace\", \"Leo Tolstoy\", 39.95)\n",
    "b2 = Book(\"The Catcher in the Rye\", \"JD Salinger\", 29.95)\n",
    "\n",
    "print(b1)\n",
    "print(b2)\n",
    "\n",
    "\n",
    "\"\"\" \n",
    "OUTPUT is a string identifying a class name and it's location in memory.\n",
    "\n",
    "<__main__.Book object at 0x000000BA4FAD7160>\n",
    "<__main__.Book object at 0x000000BA4FA86AC0>\n",
    "\"\"\""
   ]
  },
  {
   "cell_type": "code",
   "execution_count": 1,
   "metadata": {},
   "outputs": [
    {
     "name": "stdout",
     "output_type": "stream",
     "text": [
      "<__main__.Book object at 0x000000BA4FAD7160>\n",
      "<__main__.Book object at 0x000000BA4FA86AC0>\n"
     ]
    }
   ],
   "source": [
    "\"\"\"\n",
    "more info on str and repr functions of a class object\n",
    "\"\"\"\n",
    "\n",
    "# TODO: Use the __str__ method to return a string\n",
    "\"\"\" It is used to provide a user-friendly string description of the object. \n",
    "And is usually intended to be displayed to the user.\n",
    "\"\"\"\n",
    "# TODO: Use the __repr__ method to return an object representation \n",
    "\"\"\" The repr function is used to generate a more developer facing string that \n",
    "ideally can be used to recreate the object in it's current state. It's commonly\n",
    "used for debugging purposes. So it gets used to display a lot of detailed \n",
    "information.\n",
    "\"\"\"\n",
    "b1 = Book(\"War and Peace\", \"Leo Tolstoy\", 39.95)\n",
    "# \n",
    "b2 = Book(\"The Catcher in the Rye\", \"JD Salinger\", 29.95)\n",
    "\n",
    "print(b1)\n",
    "print(b2)"
   ]
  },
  {
   "cell_type": "markdown",
   "metadata": {},
   "source": [
    "These functions get invoked in an object in a variety of ways. For example when you call the print function, and passin the object, or when you use the str/ repr casting functions, these methods will get called."
   ]
  },
  {
   "cell_type": "code",
   "execution_count": 4,
   "metadata": {},
   "outputs": [
    {
     "name": "stdout",
     "output_type": "stream",
     "text": [
      "War and Peace by Leo Tolstoy, costs 39.95\n",
      "The Catcher in the Rye by JD Salinger, costs 29.95\n"
     ]
    },
    {
     "data": {
      "text/plain": [
       "\" \\nOUTPUT is a string identifying a class name and it's location in memory.\\n\\n<__main__.Book object at 0x000000BA4FAD7160>\\n<__main__.Book object at 0x000000BA4FA86AC0>\\n\""
      ]
     },
     "execution_count": 4,
     "metadata": {},
     "output_type": "execute_result"
    }
   ],
   "source": [
    "\"\"\"\n",
    "3.1.2\n",
    "Adding a custom string representation of the object by using __str__ \n",
    "\"\"\"\n",
    "\n",
    "class Book:\n",
    "    def __init__(self, title, author, price):\n",
    "        super().__init__()\n",
    "        self.title = title\n",
    "        self.author = author\n",
    "        self.price = price\n",
    "\n",
    "    # TODO: Use the __str__ method to return a string\n",
    "    def __str__(self):\n",
    "        return f\"{self.title} by {self.author}, costs {self.price}\"\n",
    "\n",
    "    # TODO: Use the __repr__ method to return an object representation \n",
    "\n",
    "b1 = Book(\"War and Peace\", \"Leo Tolstoy\", 39.95)\n",
    "b2 = Book(\"The Catcher in the Rye\", \"JD Salinger\", 29.95)\n",
    "\n",
    "print(b1)\n",
    "print(b2)\n",
    "\n",
    "\"\"\" \n",
    "OUTPUT is a string representation of the object's state as specified by the __str__\n",
    "function\n",
    "\n",
    "War and Peace by Leo Tolstoy, costs 39.95\n",
    "The Catcher in the Rye by JD Salinger, costs 29.95\n",
    "\"\"\""
   ]
  },
  {
   "cell_type": "code",
   "execution_count": 1,
   "metadata": {},
   "outputs": [
    {
     "name": "stdout",
     "output_type": "stream",
     "text": [
      "War and Peace by Leo Tolstoy, costs 39.95\n",
      "The Catcher in the Rye by JD Salinger, costs 29.95\n"
     ]
    },
    {
     "data": {
      "text/plain": [
       "\" \\nOUTPUT is a string representation of the object's state as specified by the __str__\\nfunction\\n\\nWar and Peace by Leo Tolstoy, costs 39.95\\nThe Catcher in the Rye by JD Salinger, costs 29.95\\n\""
      ]
     },
     "execution_count": 1,
     "metadata": {},
     "output_type": "execute_result"
    }
   ],
   "source": [
    "\"\"\"\n",
    "3.1.2\n",
    "Adding a custom string representation of the object by using __str__ \n",
    "\"\"\"\n",
    "\n",
    "class Book:\n",
    "    def __init__(self, title, author, price):\n",
    "        super().__init__()\n",
    "        self.title = title\n",
    "        self.author = author\n",
    "        self.price = price\n",
    "\n",
    "    # TODO: Use the __str__ method to return a string\n",
    "    def __str__(self):\n",
    "        return f\"{self.title} by {self.author}, costs {self.price}\"\n",
    "\n",
    "    # TODO: Use the __repr__ method to return an object representation \n",
    "\n",
    "b1 = Book(\"War and Peace\", \"Leo Tolstoy\", 39.95)\n",
    "b2 = Book(\"The Catcher in the Rye\", \"JD Salinger\", 29.95)\n",
    "\n",
    "print(b1)\n",
    "print(b2)\n",
    "\n",
    "\"\"\" \n",
    "OUTPUT is a string representation of the object's state as specified by the __str__\n",
    "function\n",
    "\n",
    "War and Peace by Leo Tolstoy, costs 39.95\n",
    "The Catcher in the Rye by JD Salinger, costs 29.95\n",
    "\"\"\""
   ]
  },
  {
   "cell_type": "code",
   "execution_count": 3,
   "metadata": {},
   "outputs": [
    {
     "name": "stdout",
     "output_type": "stream",
     "text": [
      "War and Peace by Leo Tolstoy, costs 39.95\n",
      "War and Peace by Leo Tolstoy, costs 39.95\n",
      "title=War and Peace, author=Leo Tolstoy, price=39.95\n"
     ]
    }
   ],
   "source": [
    "\"\"\"\n",
    "3.1.2\n",
    "REPR FUNCTION\n",
    "This also return a formatted string object, but it returns a whole bunch of \n",
    "properties, like self.title, self.author, and self.price.\n",
    "05:32 11/06/2022\n",
    "\n",
    "STR and SIMPLE PRINTING THEREAFTER\n",
    "str is what is used when you just print an object itself. \n",
    "(this is an internal override...)\n",
    "\n",
    "DEFINING A REPR FUNCTION TO MAKE DEBUGGING EASIER\n",
    "It's good to add a repr to the classes you make to make debugging easier.\n",
    "\"\"\"\n",
    "\n",
    "class Book:\n",
    "    def __init__(self, title, author, price):\n",
    "        super().__init__()\n",
    "        self.title = title\n",
    "        self.author = author\n",
    "        self.price = price\n",
    "\n",
    "    # TODO: Use the __str__ method to return a string\n",
    "    def __str__(self):\n",
    "        return f\"{self.title} by {self.author}, costs {self.price}\"\n",
    "\n",
    "    # TODO: Use the __repr__ method to return an object representation \n",
    "    def __repr__(self):\n",
    "        return f\"title={self.title}, author={self.author}, price={self.price}\"\n",
    "\n",
    "b1 = Book(\"War and Peace\", \"Leo Tolstoy\", 39.95)\n",
    "b2 = Book(\"The Catcher in the Rye\", \"JD Salinger\", 29.95)\n",
    "\n",
    "print(b1)\n",
    "# print(b2)\n",
    "print(str(b1))\n",
    "print(repr(b1))"
   ]
  },
  {
   "cell_type": "code",
   "execution_count": null,
   "metadata": {},
   "outputs": [],
   "source": [
    "\"\"\"\n",
    "3.2.1\n",
    "EQUALITY AND COMPARISON IN PYTHON OBJECTS\n",
    "05:43 11/06/2022\n",
    "\"\"\"\n",
    "\n",
    "class Book:\n",
    "    def __init__(self, title, author, price):\n",
    "        super().__init__()\n",
    "        self.title = title\n",
    "        self.author = author\n",
    "        self.price = price\n",
    "\n",
    "    # Equality\n",
    "    # TODO: the __eq__ method checks for equality between objects\n",
    "    # Greater Than\n",
    "    # TODO: the __ge__ establishes >= relationship with another object\n",
    "    # Less Than\n",
    "    # TODO: the __lt__ establishes < relationship with another object\n",
    "\n",
    "b1 = Book(\"War and Peace\", \"Leo Tolstoy\", 39.95)\n",
    "b2 = Book(\"The Catcher in the Rye\", \"JD Salinger\", 29.95)\n",
    "b3 = Book(\"War and Peace\", \"Leo Tolstoy\", 39.95)\n",
    "b4 = Book(\"The Catcher in the Rye\", \"JD Salinger\", 29.95)"
   ]
  },
  {
   "cell_type": "code",
   "execution_count": 5,
   "metadata": {},
   "outputs": [
    {
     "name": "stdout",
     "output_type": "stream",
     "text": [
      "False\n"
     ]
    }
   ],
   "source": [
    "\"\"\"\n",
    "3.2.2\n",
    "EQUALITY AND COMPARISON IN PYTHON OBJECTS\n",
    "05:49 11/06/2022\n",
    "\n",
    "the equality operator for obj\n",
    "\"\"\"\n",
    "\n",
    "class Book:\n",
    "    def __init__(self, title, author, price):\n",
    "        super().__init__()\n",
    "        self.title = title\n",
    "        self.author = author\n",
    "        self.price = price\n",
    "\n",
    "    # Equality\n",
    "    # TODO: the __eq__ method checks for equality between objects\n",
    "    # Greater Than\n",
    "    # TODO: the __ge__ establishes >= relationship with another object\n",
    "    # Less Than\n",
    "    # TODO: the __lt__ establishes < relationship with another object\n",
    "\n",
    "b1 = Book(\"War and Peace\", \"Leo Tolstoy\", 39.95)\n",
    "b2 = Book(\"The Catcher in the Rye\", \"JD Salinger\", 29.95)\n",
    "b3 = Book(\"War and Peace\", \"Leo Tolstoy\", 39.95)\n",
    "b4 = Book(\"The Catcher in the Rye\", \"JD Salinger\", 29.95)\n",
    "print(b1==b3)       # False, this is wierd be\n",
    "\"\"\"\n",
    "Python doesnot do an attribute by attribrute  comparison on objects, it just \n",
    "compares the two instances and see that they are not the same instances in \n",
    "memory, and therefore it says Oh False, they are not equal to each other.\n",
    "\"\"\""
   ]
  },
  {
   "cell_type": "code",
   "execution_count": 4,
   "metadata": {},
   "outputs": [
    {
     "name": "stdout",
     "output_type": "stream",
     "text": [
      "True\n",
      "False\n"
     ]
    },
    {
     "ename": "ValueError",
     "evalue": "Can't compare book to a non-book",
     "output_type": "error",
     "traceback": [
      "\u001b[1;31m---------------------------------------------------------------------------\u001b[0m",
      "\u001b[1;31mValueError\u001b[0m                                Traceback (most recent call last)",
      "\u001b[1;32m~\\AppData\\Local\\Temp/ipykernel_11516/4142325928.py\u001b[0m in \u001b[0;36m<module>\u001b[1;34m\u001b[0m\n\u001b[0;32m     35\u001b[0m \u001b[0mprint\u001b[0m\u001b[1;33m(\u001b[0m\u001b[0mb1\u001b[0m \u001b[1;33m==\u001b[0m \u001b[0mb3\u001b[0m\u001b[1;33m)\u001b[0m       \u001b[1;31m# True\u001b[0m\u001b[1;33m\u001b[0m\u001b[1;33m\u001b[0m\u001b[0m\n\u001b[0;32m     36\u001b[0m \u001b[0mprint\u001b[0m\u001b[1;33m(\u001b[0m\u001b[0mb1\u001b[0m \u001b[1;33m==\u001b[0m \u001b[0mb2\u001b[0m\u001b[1;33m)\u001b[0m       \u001b[1;31m# True\u001b[0m\u001b[1;33m\u001b[0m\u001b[1;33m\u001b[0m\u001b[0m\n\u001b[1;32m---> 37\u001b[1;33m \u001b[0mprint\u001b[0m\u001b[1;33m(\u001b[0m\u001b[0mb1\u001b[0m \u001b[1;33m==\u001b[0m \u001b[1;36m42\u001b[0m\u001b[1;33m)\u001b[0m       \u001b[1;31m# True\u001b[0m\u001b[1;33m\u001b[0m\u001b[1;33m\u001b[0m\u001b[0m\n\u001b[0m",
      "\u001b[1;32m~\\AppData\\Local\\Temp/ipykernel_11516/4142325928.py\u001b[0m in \u001b[0;36m__eq__\u001b[1;34m(self, value)\u001b[0m\n\u001b[0;32m     18\u001b[0m     \u001b[1;32mdef\u001b[0m \u001b[0m__eq__\u001b[0m\u001b[1;33m(\u001b[0m\u001b[0mself\u001b[0m\u001b[1;33m,\u001b[0m \u001b[0mvalue\u001b[0m\u001b[1;33m)\u001b[0m\u001b[1;33m:\u001b[0m\u001b[1;33m\u001b[0m\u001b[1;33m\u001b[0m\u001b[0m\n\u001b[0;32m     19\u001b[0m         \u001b[1;32mif\u001b[0m \u001b[1;32mnot\u001b[0m \u001b[0misinstance\u001b[0m\u001b[1;33m(\u001b[0m\u001b[0mvalue\u001b[0m\u001b[1;33m,\u001b[0m \u001b[0mBook\u001b[0m\u001b[1;33m)\u001b[0m\u001b[1;33m:\u001b[0m\u001b[1;33m\u001b[0m\u001b[1;33m\u001b[0m\u001b[0m\n\u001b[1;32m---> 20\u001b[1;33m             \u001b[1;32mraise\u001b[0m \u001b[0mValueError\u001b[0m\u001b[1;33m(\u001b[0m\u001b[1;34m\"Can't compare book to a non-book\"\u001b[0m\u001b[1;33m)\u001b[0m\u001b[1;33m\u001b[0m\u001b[1;33m\u001b[0m\u001b[0m\n\u001b[0m\u001b[0;32m     21\u001b[0m \u001b[1;33m\u001b[0m\u001b[0m\n\u001b[0;32m     22\u001b[0m         return (self.title == value.title and \n",
      "\u001b[1;31mValueError\u001b[0m: Can't compare book to a non-book"
     ]
    }
   ],
   "source": [
    "\"\"\"\n",
    "3.2.3\n",
    "EQUALITY AND COMPARISON IN PYTHON OBJECTS\n",
    "05:49 11/06/2022\n",
    "\n",
    "the equality operator for obj\n",
    "\"\"\"\n",
    "\n",
    "class Book:\n",
    "    def __init__(self, title, author, price):\n",
    "        super().__init__()\n",
    "        self.title = title\n",
    "        self.author = author\n",
    "        self.price = price\n",
    "\n",
    "    # Equality\n",
    "    # TODO: the __eq__ method checks for equality between objects\n",
    "    def __eq__(self, value):\n",
    "        if not isinstance(value, Book):\n",
    "            raise ValueError(\"Can't compare book to a non-book\")\n",
    "        \n",
    "        return (self.title == value.title and \n",
    "                self.author == value.author and \n",
    "                self.price == value.price)\n",
    "\n",
    "    # Greater Than\n",
    "    # TODO: the __ge__ establishes >= relationship with another object\n",
    "    # Less Than\n",
    "    # TODO: the __lt__ establishes < relationship with another object\n",
    "\n",
    "b1 = Book(\"War and Peace\", \"Leo Tolstoy\", 39.95)\n",
    "b2 = Book(\"The Catcher in the Rye\", \"JD Salinger\", 29.95)\n",
    "b3 = Book(\"War and Peace\", \"Leo Tolstoy\", 39.95)\n",
    "b4 = Book(\"The Catcher in the Rye\", \"JD Salinger\", 29.95)\n",
    "print(b1 == b3)       # True\n",
    "print(b1 == b2)       # False\n",
    "print(b1 == 42)       # Raises a Value Eror"
   ]
  },
  {
   "cell_type": "code",
   "execution_count": 7,
   "metadata": {},
   "outputs": [
    {
     "name": "stdout",
     "output_type": "stream",
     "text": [
      "True\n",
      "False\n",
      "False\n",
      ".......\n",
      "False\n",
      "True\n",
      ".......\n"
     ]
    }
   ],
   "source": [
    "\"\"\"\n",
    "3.2.4\n",
    "EQUALITY AND COMPARISON IN PYTHON OBJECTS\n",
    "\n",
    "21:42 02/07/2022\n",
    "the equality operator for obj\n",
    "\"\"\"\n",
    "\"\"\"\n",
    "Plain objects by default don't know how to compare themselves to each other.\n",
    "But we can teach them how to do so by using the equality and comparison magic \n",
    "methods.\n",
    "\n",
    "We can also perform other kinds of comparisons by overwriting the corresponding\n",
    "magic method. Here we \n",
    "\n",
    "\"\"\"\n",
    "\n",
    "class Book:\n",
    "    def __init__(self, title, author, price):\n",
    "        super().__init__()\n",
    "        self.title = title\n",
    "        self.author = author\n",
    "        self.price = price\n",
    "\n",
    "    # Equality\n",
    "    # TODO: the __eq__ method checks for equality between objects\n",
    "    def __eq__(self, value):\n",
    "        if not isinstance(value, Book):\n",
    "            raise ValueError(\"Can't compare book to a non-book\")\n",
    "        \n",
    "        return (self.title == value.title and \n",
    "                self.author == value.author and \n",
    "                self.price == value.price)\n",
    "    \"\"\"\n",
    "    Here we override the greater than or equal to function.\n",
    "    The function takes my object and the comparion one.\n",
    "    \"\"\"\n",
    "    # Greater Than\n",
    "    # TODO: the __ge__ establishes >= relationship with another object\n",
    "    def __ge__(self,value):\n",
    "        # make sure we are comparing to a book\n",
    "        if not isinstance(value,Book):\n",
    "            raise ValueError(\"Can't compare book to non-book\")\n",
    "        \n",
    "        return self.price > value.price\n",
    "    \n",
    "    # Less Than\n",
    "    # TODO: the __lt__ establishes < relationship with another object\n",
    "    def __lt__(self,value):\n",
    "        # make sure we are comparing to a book\n",
    "        if not isinstance(value,Book):\n",
    "            raise ValueError(\"Can't compare book to non-book\")\n",
    "        \n",
    "        return self.price < value.price\n",
    "\n",
    "b1 = Book(\"War and Peace\", \"Leo Tolstoy\", 39.95)\n",
    "b2 = Book(\"The Catcher in the Rye\", \"JD Salinger\", 29.95)\n",
    "b3 = Book(\"War and Peace\", \"Leo Tolstoy\", 39.95)\n",
    "b4 = Book(\"The Catcher in the Rye\", \"JD Salinger\", 29.95)\n",
    "\n",
    "# TODO: Check for equality\n",
    "print(b1 == b3)       # True\n",
    "print(b1 == b2)       # False\n",
    "# print(b1 == 42)       # Raises a Value Eror\n",
    "b3B = Book(\"War and Peace\", \"Ronny Tolstoy\", 39.95)\n",
    "print(b1 == b3B)       # False\n",
    "\n",
    "print(\".......\")\n",
    "# TODO: Check for greater and lesser than\n",
    "print(b2 >= b1)\n",
    "print(b2 < b1)\n",
    "\n",
    "print(\".......\")\n"
   ]
  },
  {
   "cell_type": "code",
   "execution_count": 13,
   "metadata": {},
   "outputs": [
    {
     "name": "stdout",
     "output_type": "stream",
     "text": [
      "[<__main__.Book object at 0x0000004EEE2BF880>, <__main__.Book object at 0x0000004EEE2BF070>, <__main__.Book object at 0x0000004EEE2BFE80>, <__main__.Book object at 0x0000004EEE2BF0D0>]\n",
      "['The Catcher in the Rye2', 'The Catcher in the Rye', 'War and Peace and Heaven', 'War and Peace']\n"
     ]
    }
   ],
   "source": [
    "\"\"\" With the greater than and less than support. We automatically gain the \n",
    "ability for the books to be sortable.\n",
    "\"\"\"\n",
    "\n",
    "\"\"\"\n",
    "3.2.4\n",
    "EQUALITY AND COMPARISON IN PYTHON OBJECTS\n",
    "\n",
    "21:42 02/07/2022\n",
    "the equality operator for obj\n",
    "\"\"\"\n",
    "\"\"\"\n",
    "Plain objects by default don't know how to compare themselves to each other.\n",
    "But we can teach them how to do so by using the equality and comparison magic \n",
    "methods.\n",
    "\n",
    "We can also perform other kinds of comparisons by overwriting the corresponding\n",
    "magic method. Here we \n",
    "\n",
    "\"\"\"\n",
    "\n",
    "class Book:\n",
    "    def __init__(self, title, author, price):\n",
    "        super().__init__()\n",
    "        self.title = title\n",
    "        self.author = author\n",
    "        self.price = price\n",
    "\n",
    "    # Equality\n",
    "    # TODO: the __eq__ method checks for equality between objects\n",
    "    def __eq__(self, value):\n",
    "        if not isinstance(value, Book):\n",
    "            raise ValueError(\"Can't compare book to a non-book\")\n",
    "        \n",
    "        return (self.title == value.title and \n",
    "                self.author == value.author and \n",
    "                self.price == value.price)\n",
    "    \"\"\"\n",
    "    Here we override the greater than or equal to function.\n",
    "    The function takes my object and the comparion one.\n",
    "    \"\"\"\n",
    "    # Greater Than\n",
    "    # TODO: the __ge__ establishes >= relationship with another object\n",
    "    def __ge__(self,value):\n",
    "        # make sure we are comparing to a book\n",
    "        if not isinstance(value,Book):\n",
    "            raise ValueError(\"Can't compare book to non-book\")\n",
    "        \n",
    "        return self.price > value.price\n",
    "    \n",
    "    # Less Than\n",
    "    # TODO: the __lt__ establishes < relationship with another object\n",
    "    def __lt__(self,value):\n",
    "        # make sure we are comparing to a book\n",
    "        if not isinstance(value,Book):\n",
    "            raise ValueError(\"Can't compare book to non-book\")\n",
    "        \n",
    "        return self.price < value.price\n",
    "\n",
    "b1 = Book(\"War and Peace\", \"Leo Tolstoy\", 39.95)\n",
    "b2 = Book(\"The Catcher in the Rye\", \"JD Salinger\", 29.95)\n",
    "b3 = Book(\"War and Peace and Heaven\", \"Leo Tolstoy\", 39.05)\n",
    "b4 = Book(\"The Catcher in the Rye2\", \"JD Salinger\", 24.95)\n",
    "\n",
    "# TODO: Check for equality\n",
    "# print(b1 == b3)       # True\n",
    "# print(b1 == b2)       # False\n",
    "# print(b1 == 42)       # Raises a Value Eror\n",
    "# b3B = Book(\"War and Peace\", \"Ronny Tolstoy\", 39.95)\n",
    "# print(b1 == b3B)       # False\n",
    "\n",
    "# print(\".......\")\n",
    "# TODO: Check for greater and lesser than\n",
    "# print(b2 >= b1)\n",
    "# print(b2 < b1)\n",
    "# print(\".......\")\n",
    "# SORTING OF BOOKS BASED ON PRICE\n",
    "books = [b1,b2,b3,b4]\n",
    "books.sort()\n",
    "print(books)\n",
    "print([i.title for i in books])"
   ]
  },
  {
   "cell_type": "markdown",
   "metadata": {},
   "source": [
    "### Magic Methods in the Python Data Model\n",
    "\n",
    "A Lot of these magic methods can be implemented in the base classes and they are documented in this data model. And the data model can be accessed here:\n",
    "\n",
    "1. Data model — Python 2.7.2 documentation\n",
    "https://python.readthedocs.io/en/v2.7.2/reference/datamodel.html\n",
    "\n",
    "2. Data model — Python 3.10.5 documentation\n",
    "https://docs.python.org/3/reference/datamodel.html\n",
    "\n",
    "3. The Python Data Model - Fluent Python [Book]\n",
    "https://www.oreilly.com/library/view/fluent-python/9781491946237/ch01.html\n",
    "\n",
    "### Magic and Dunder\n",
    "The term magic method is slang for special method, but when talking about a specific method like __getitem__, some Python developers take the shortcut of saying “under-under-getitem” which is ambiguous, because the syntax __x has another special meaning.2 Being precise and pronouncing “under-under-getitem-under-under” is tiresome, so I follow the lead of author and teacher Steve Holden and say “dunder-getitem.” All experienced Pythonistas understand that shortcut. As a result, the special methods are also known as dunder methods.3\n",
    "\n",
    "(23:37 02/07/2022)"
   ]
  },
  {
   "cell_type": "markdown",
   "metadata": {},
   "source": [
    "### ATTRIBUTE ACCESS"
   ]
  },
  {
   "cell_type": "markdown",
   "metadata": {},
   "source": [
    "Python's magic methods also give you complete control over how an objects attribrutes \n",
    "are accessed. Your class can define methods that intercept the process anytime the \n",
    "atribute is set/ retrieved.\n",
    "\n",
    "\n"
   ]
  },
  {
   "cell_type": "code",
   "execution_count": 16,
   "metadata": {},
   "outputs": [
    {
     "name": "stdout",
     "output_type": "stream",
     "text": [
      "The Catcher in the Rye by JD Salinger, costs 26.955\n",
      "War and Peace by Leo Tolstoy, costs 35.055\n"
     ]
    }
   ],
   "source": [
    "class Book:\n",
    "    def __init__(self,title,author,price):\n",
    "        super().__init__()\n",
    "        self.title = title\n",
    "        self.author = author\n",
    "        self.price = price\n",
    "        self._discount = 0.1\n",
    "\n",
    "    # The __str__ function is used to return a user-friendly string representation\n",
    "    # of an object\n",
    "\n",
    "    def __str__(self):\n",
    "        return f\"{self.title} by {self.author}, costs {self.price}\"\n",
    "    \n",
    "    # HOW TO CONTROL ACCESS WHEN AN ATTRIBUTE'S VALUE IS RETRIEVED\n",
    "    # Python let's us define a magic method called get attribute which is called\n",
    "    # whenever the value of an atrribute is accessed.\n",
    "    # This allows us an opportunity to perform any operation on the value before \n",
    "    # it get's returned.\n",
    "\n",
    "    def __getattribute__(self, name):\n",
    "        if name == \"price\":\n",
    "            p = super().__getattribute__(\"price\")\n",
    "            d = super().__getattribute__(\"_discount\")\n",
    "            return p - (p*d)\n",
    "        return super().__getattribute__(name)\n",
    "\n",
    "\n",
    "b1 = Book(\"War and Peace\", \"Leo Tolstoy\", 39.95)\n",
    "b2 = Book(\"The Catcher in the Rye\", \"JD Salinger\", 29.95)\n",
    "\n",
    "# the print statement triggers the str output\n",
    "print(b2)\n",
    "b1.price = 38.95\n",
    "print(b1)\n"
   ]
  },
  {
   "cell_type": "markdown",
   "metadata": {},
   "source": [
    "We can also control the setting of an attribute by using setattr function."
   ]
  },
  {
   "cell_type": "code",
   "execution_count": 18,
   "metadata": {},
   "outputs": [
    {
     "name": "stdout",
     "output_type": "stream",
     "text": [
      "The Catcher in the Rye by JD Salinger, costs 26.955\n",
      "War and Peace by Leo Tolstoy, costs 35.055\n"
     ]
    }
   ],
   "source": [
    "\"\"\"\n",
    "\n",
    "\"\"\"\n",
    "class Book:\n",
    "    def __init__(self,title,author,price):\n",
    "        super().__init__()\n",
    "        self.title = title\n",
    "        self.author = author\n",
    "        self.price = price\n",
    "        self._discount = 0.1\n",
    "\n",
    "    # The __str__ function is used to return a user-friendly string representation\n",
    "    # of an object\n",
    "\n",
    "    def __str__(self):\n",
    "        return f\"{self.title} by {self.author}, costs {self.price}\"\n",
    "\n",
    "    def __getattribute__(self, name):\n",
    "        if name == \"price\":\n",
    "            p = super().__getattribute__(\"price\")\n",
    "            d = super().__getattribute__(\"_discount\")\n",
    "            return p - (p*d)\n",
    "        return super().__getattribute__(name)\n",
    "    \n",
    "    def __setattr__(self,name,value):\n",
    "        # We raise an Error if the value that we will pass is not a floating point \n",
    "        # number.\n",
    "        if name == \"price\":\n",
    "            if type(value) is not float:\n",
    "                raise ValueError(\"The price attr must be a float\")\n",
    "        # if we pass that test, then we will just return the superclasses \n",
    "        # name and value\n",
    "        return super().__setattr__(name,value)\n",
    "\n",
    "b1 = Book(\"War and Peace\", \"Leo Tolstoy\", 39.95)\n",
    "b2 = Book(\"The Catcher in the Rye\", \"JD Salinger\", 29.95)\n",
    "\n",
    "# the print statement triggers the str output\n",
    "print(b2)\n",
    "#b1.price = 38.95       # This is good.\n",
    "b1.price = 38           # This raises a valueError\n",
    "print(b1)"
   ]
  },
  {
   "cell_type": "markdown",
   "metadata": {},
   "source": [
    "There's another magic method that let's us customize the retrieval of attributes but it only get's called if a given attribute doesn't exist."
   ]
  },
  {
   "cell_type": "code",
   "execution_count": 20,
   "metadata": {},
   "outputs": [
    {
     "name": "stdout",
     "output_type": "stream",
     "text": [
      "The Catcher in the Rye by JD Salinger, costs 29.95\n",
      "War and Peace by Leo Tolstoy, costs 39.95\n",
      "randomProp is not here!\n"
     ]
    }
   ],
   "source": [
    "\"\"\"\n",
    "\n",
    "\"\"\"\n",
    "class Book:\n",
    "    def __init__(self,title,author,price):\n",
    "        super().__init__()\n",
    "        self.title = title\n",
    "        self.author = author\n",
    "        self.price = price\n",
    "        self._discount = 0.1\n",
    "\n",
    "    # The __str__ function is used to return a user-friendly string representation\n",
    "    # of an object\n",
    "\n",
    "    def __str__(self):\n",
    "        return f\"{self.title} by {self.author}, costs {self.price}\"\n",
    "\n",
    "    # def __getattribute__(self, name):\n",
    "    #     if name == \"price\":\n",
    "    #         p = super().__getattribute__(\"price\")\n",
    "    #         d = super().__getattribute__(\"_discount\")\n",
    "    #         return p - (p*d)\n",
    "    #     return super().__getattribute__(name)\n",
    "    \n",
    "    def __setattr__(self,name,value):\n",
    "        # We raise an Error if the value that we will pass is not a floating point \n",
    "        # number.\n",
    "        if name == \"price\":\n",
    "            if type(value) is not float:\n",
    "                raise ValueError(\"The price attr must be a float\")\n",
    "        # if we pass that test, then we will just return the superclasses \n",
    "        # name and value\n",
    "        return super().__setattr__(name,value)\n",
    "    \n",
    "    def __getattr__(self,name):\n",
    "        return name + \" is not here!\"\n",
    "\n",
    "b1 = Book(\"War and Peace\", \"Leo Tolstoy\", 39.95)\n",
    "b2 = Book(\"The Catcher in the Rye\", \"JD Salinger\", 29.95)\n",
    "\n",
    "# the print statement triggers the str output\n",
    "print(b2)\n",
    "#b1.price = 38.95       # This is good.\n",
    "#b1.price = 38           # This raises a valueError\n",
    "print(b1)\n",
    "print(b1.randomProp)"
   ]
  },
  {
   "cell_type": "markdown",
   "metadata": {},
   "source": [
    "We look at the magic method that enables an object to be called, just like any other function."
   ]
  },
  {
   "cell_type": "code",
   "execution_count": 21,
   "metadata": {},
   "outputs": [
    {
     "name": "stdout",
     "output_type": "stream",
     "text": [
      "War and Peace by Leo Tolstoy, costs 39.95\n",
      "Anna Karenina by Leo Tolstoy, costs 49.95\n"
     ]
    }
   ],
   "source": [
    "\"\"\"\n",
    "magic call\n",
    "\"\"\"\n",
    "\n",
    "class Book:\n",
    "    def __init__(self,title,author,price):\n",
    "        super().__init__()\n",
    "        self.title = title\n",
    "        self.author = author\n",
    "        self.price = price\n",
    "\n",
    "    def __str__(self):\n",
    "        return f\"{self.title} by {self.author}, costs {self.price}\"\n",
    "    \n",
    "    # TODO: the __call__ method can be used to call the object like a function\n",
    "    def __call__(self,title,author,price):\n",
    "        self.title = title\n",
    "        self.author = author\n",
    "        self.price = price\n",
    "\n",
    "\n",
    "\n",
    "\n",
    "b1 = Book(\"War and Peace\", \"Leo Tolstoy\", 39.95)\n",
    "b2 = Book(\"The Catcher in the Rye\", \"JD Salinger\", 29.95)\n",
    "\n",
    "# TODO: call the object as if it were a function\n",
    "print(b1)\n",
    "b1(\"Anna Karenina\", \"Leo Tolstoy\", 49.95)\n",
    "print(b1)\n"
   ]
  },
  {
   "cell_type": "markdown",
   "metadata": {},
   "source": [
    "Benefits:\n",
    "\n",
    "1. If you have objects whose attributes change frequently, \n",
    "2. or the attributes are often modified together,\n",
    "   \n",
    "then this can result in more compact code that's also easier to read.\n",
    "\n",
    "(00:13 03/07/2022)"
   ]
  },
  {
   "cell_type": "markdown",
   "metadata": {},
   "source": [
    "QUIZ!\n"
   ]
  },
  {
   "cell_type": "markdown",
   "metadata": {},
   "source": [
    "# DATA CLASSES IN PYTHON 3.7"
   ]
  },
  {
   "cell_type": "markdown",
   "metadata": {},
   "source": [
    "One of the main use cases in Python is to maintain and represent data. Our code creates classes like a book class and uses functions to store values on the instances of the class.\n",
    "\n",
    "And you might be wondering, well if this is just a common pattern, why doesn't Python just automate this. Why do i have to explicitly store each argument on the object by setting attributes to the self parameter. \n",
    "\n",
    "Well starting with Python 3.7, you actually don't.\n",
    "\n",
    "In 3.7 Python introduced a new feature called the data class which helps to automate the creation and managing of classes which are essentially created just to hold data.\n",
    "\n",
    "You can read more about this here:\n",
    "\n",
    "1. Data Classes in Python 3.7+ (Guide) – Real Python\n",
    "    https://realpython.com/python-data-classes/\n",
    "\n",
    "2. dataclasses — Data Classes — Python 3.10.5 documentation\n",
    "    https://docs.python.org/3/library/dataclasses.html\n",
    "\n",
    "3. Understanding data classes - IBM Documentation\n",
    "    https://www.ibm.com/docs/en/zos/2.4.0?topic=classes-understanding-data\n",
    "\n",
    "Data classes are one of the new features of Python 3.7. With data classes, you do not have to write boilerplate code to get proper initialization, representation, and comparisons for your objects. \n",
    "(https://realpython.com/python-data-classes/)"
   ]
  },
  {
   "cell_type": "code",
   "execution_count": 22,
   "metadata": {},
   "outputs": [
    {
     "ename": "IndentationError",
     "evalue": "expected an indented block (Temp/ipykernel_11516/81312464.py, line 8)",
     "output_type": "error",
     "traceback": [
      "\u001b[1;36m  File \u001b[1;32m\"C:\\Users\\user\\AppData\\Local\\Temp/ipykernel_11516/81312464.py\"\u001b[1;36m, line \u001b[1;32m8\u001b[0m\n\u001b[1;33m    def __init__(self,title,author,pages,price):\u001b[0m\n\u001b[1;37m    ^\u001b[0m\n\u001b[1;31mIndentationError\u001b[0m\u001b[1;31m:\u001b[0m expected an indented block\n"
     ]
    }
   ],
   "source": [
    "\"\"\"\n",
    "Converting a Book Class into a version that uses a data class\n",
    "\n",
    "00:28 03/07/2022\n",
    "\"\"\"\n",
    "\n",
    "\n",
    "class Book:\n",
    "    def __init__(self,title,author,pages,price):\n",
    "        self.title = title\n",
    "        self.author = author\n",
    "        self.pages = pages\n",
    "        self.price = price\n",
    "\n",
    "\n",
    "# create some instances\n",
    "b1 = Book(\"War and Peace\", \"Leo Tolstoy\", 1225, 39.95)\n",
    "b2 = Book(\"The Catcher in the Rye\", \"JD Salinger\", 234, 29.95)\n",
    "\n",
    "\n",
    "# access fields\n",
    "print(b1.title)\n",
    "print(b2.author)\n",
    "\n"
   ]
  },
  {
   "cell_type": "code",
   "execution_count": 24,
   "metadata": {},
   "outputs": [
    {
     "name": "stdout",
     "output_type": "stream",
     "text": [
      "War and Peace\n",
      "JD Salinger\n",
      "Book(title='War and Peace', author='Leo Tolstoy', pages=1225, price=39.95)\n",
      "False\n"
     ]
    }
   ],
   "source": [
    "\"\"\"\n",
    "Converting a Book Class into a version that uses a data class\n",
    "\n",
    "00:34 03/07/2022\n",
    "\n",
    "Note: \n",
    "i. behind the scenes, the dataclass decorator code will actually rewrite this class\n",
    "to automatically add the init function, where all the attributes will be initialized \n",
    "on the object instance.\n",
    "\n",
    "ii. there are type hints provided. These are required for dataclasses to work.\n",
    "(Note: their type isn't actually enforced...)\n",
    "\n",
    "iii. Data Classes have a benefit of concise code\n",
    "iv. They also automatically implement repr and eq magic methods.\n",
    "\n",
    "\"\"\"\n",
    "\n",
    "\n",
    "from dataclasses import dataclass\n",
    "\n",
    "# use the dataclass decorator\n",
    "\n",
    "@dataclass\n",
    "class Book:\n",
    "    title : str\n",
    "    author : str\n",
    "    pages : int\n",
    "    price : float\n",
    "\n",
    "# create some instances\n",
    "b1 = Book(\"War and Peace\", \"Leo Tolstoy\", 1225, 39.95)\n",
    "b2 = Book(\"The Catcher in the Rye\", \"JD Salinger\", 234, 29.95)\n",
    "b3 = Book(\"War and Peace\", \"Leo Tolstoy\", 1225, 39.95)\n",
    "\n",
    "# access fields\n",
    "print(b1.title)\n",
    "print(b2.author)\n",
    "\n",
    "# data classes implement __repr__\n",
    "print(b1) # Book(title='War and Peace', author='Leo Tolstoy', pages=1225, price=39.95)\n",
    "\n",
    "# data classes implement __eq__\n",
    "print(b1 == b2)\n",
    "\n",
    "# data classes implement __str__\n"
   ]
  },
  {
   "cell_type": "code",
   "execution_count": 25,
   "metadata": {},
   "outputs": [
    {
     "name": "stdout",
     "output_type": "stream",
     "text": [
      "War and Peace\n",
      "JD Salinger\n",
      "Book(title='War and Peace', author='Leo Tolstoy', pages=1225, price=39.95)\n",
      "False\n"
     ]
    },
    {
     "data": {
      "text/plain": [
       "'Anna Karenina, by Leo Tolstoy'"
      ]
     },
     "execution_count": 25,
     "metadata": {},
     "output_type": "execute_result"
    }
   ],
   "source": [
    "\"\"\"\n",
    "Add a regular python to my python dataclass.\n",
    "\n",
    "Note: \n",
    "\n",
    "\n",
    "00:38 03/07/2022\n",
    "\"\"\"\n",
    "\n",
    "\n",
    "from dataclasses import dataclass\n",
    "\n",
    "# use the dataclass decorator\n",
    "\n",
    "@dataclass\n",
    "class Book:\n",
    "    title : str\n",
    "    author : str\n",
    "    pages : int\n",
    "    price : float\n",
    "\n",
    "    def bookInfo(self):\n",
    "        return f\"{self.title}, by {self.author}\"\n",
    "\n",
    "\n",
    "# create some instances\n",
    "b1 = Book(\"War and Peace\", \"Leo Tolstoy\", 1225, 39.95)\n",
    "b2 = Book(\"The Catcher in the Rye\", \"JD Salinger\", 234, 29.95)\n",
    "b3 = Book(\"War and Peace\", \"Leo Tolstoy\", 1225, 39.95)\n",
    "\n",
    "# access fields\n",
    "# print(b1.title)\n",
    "# print(b2.author)\n",
    "\n",
    "# # data classes implement __repr__\n",
    "# print(b1) # Book(title='War and Peace', author='Leo Tolstoy', pages=1225, price=39.95)\n",
    "# print(b1 == b2)\n",
    "\n",
    "# data classes implement __str__\n",
    "b1.title = \"Anna Karenina\"\n",
    "b1.bookInfo()\n"
   ]
  },
  {
   "cell_type": "markdown",
   "metadata": {},
   "source": [
    "As you will see the data classes let you write a lot more concise code and let's you skip a lof the boilerplate that comes along with the init method, and initializing object instances.\n",
    "\n",
    "But that the same time they are just normal classes and can be extended just like another class."
   ]
  },
  {
   "cell_type": "code",
   "execution_count": 26,
   "metadata": {},
   "outputs": [
    {
     "name": "stdout",
     "output_type": "stream",
     "text": [
      "War and Peace by Leo Tolstoy, 1225 pages\n"
     ]
    }
   ],
   "source": [
    "\"\"\"\n",
    "How can you perform additional object visualization if the dataclass \n",
    "automatically writes the init function for you.\n",
    "\n",
    "For example-\n",
    "You might want to create attributes on your book class that depend on the \n",
    "values of other attributes. \n",
    "But we cannot write init because the data class is gonna do that, \n",
    "so what do we do?\n",
    "\n",
    "So to accomplish this, the dataclass decorator provides a special function called\n",
    "post-init which you can overwrite, and that shall be called for you when the \n",
    "built-in init function has finished.\n",
    "\n",
    "00:52 03/07/2022\n",
    "\"\"\"\n",
    "\n",
    "from dataclasses import dataclass\n",
    "\n",
    "@dataclass\n",
    "class Book:\n",
    "    title: str\n",
    "    author: str\n",
    "    pages: int\n",
    "    price: float\n",
    "\n",
    "    # TODO: the __post_init__ function lets us customize additional properties\n",
    "    def __post_init__(self):\n",
    "        self.description = f\"{self.title} by {self.author}, {self.pages} pages\"\n",
    "\n",
    "# create some instances\n",
    "b1 = Book(\"War and Peace\", \"Leo Tolstoy\", 1225, 39.95)\n",
    "b2 = Book(\"The Catcher in the Rye\", \"JD Salinger\", 234, 29.95)\n",
    "b3 = Book(\"War and Peace\", \"Leo Tolstoy\", 1225, 39.95)\n",
    "\n",
    "print(b1.description)\n"
   ]
  },
  {
   "cell_type": "markdown",
   "metadata": {},
   "source": [
    "Data Classes provide the ability default values for their attributes subject to some rules."
   ]
  },
  {
   "cell_type": "code",
   "execution_count": 5,
   "metadata": {},
   "outputs": [
    {
     "name": "stdout",
     "output_type": "stream",
     "text": [
      "Book(title='No Title', author='No Author', pages=0, price=0.0)\n"
     ]
    }
   ],
   "source": [
    "\"\"\"\n",
    "implementing default values in data classes\n",
    "\n",
    "\"\"\"\n",
    "\n",
    "from dataclasses import dataclass\n",
    "\n",
    "@dataclass\n",
    "class Book:\n",
    "    # you can define default values when attributes are declared\n",
    "    title: str = \"No Title\"\n",
    "    author: str = \"No Author\"\n",
    "    pages : int = 0\n",
    "    price: float = 0.00\n",
    "\n",
    "b1 = Book()\n",
    "print(b1)\n",
    "\n",
    "# Book(title='No Title', author='No Author', pages=0, price=0.0)"
   ]
  },
  {
   "cell_type": "code",
   "execution_count": 9,
   "metadata": {},
   "outputs": [
    {
     "name": "stdout",
     "output_type": "stream",
     "text": [
      "Book(title='No Title', author='No Author', pages=0, price=10.0)\n",
      "Book(title='RhinoPython Manual', author='David Rutten', pages=195, price=0.0)\n"
     ]
    }
   ],
   "source": [
    "\"\"\"\n",
    "implementing default values in data classes\n",
    "\n",
    "another way of defining a default value is by using the field function which \n",
    "provides a little more flexibility.\n",
    "i. import the field class from the dataclass module.\n",
    "ii. use the field function to specify a default value.\n",
    "\"\"\"\n",
    "\n",
    "from dataclasses import dataclass, field\n",
    "\n",
    "@dataclass\n",
    "class Book:\n",
    "    # you can define default values when attributes are declared\n",
    "    title: str = \"No Title\"\n",
    "    author: str = \"No Author\"\n",
    "    pages: int = 0\n",
    "    price: float = field(default = 10.0)\n",
    "\n",
    "b1 = Book()\n",
    "b2 = Book(\"RhinoPython Manual\",\"David Rutten\",195,0.00)\n",
    "print(b1)\n",
    "print(b2)"
   ]
  },
  {
   "cell_type": "code",
   "execution_count": 22,
   "metadata": {},
   "outputs": [
    {
     "ename": "TypeError",
     "evalue": "field() got an unexpected keyword argument 'random_factory'",
     "output_type": "error",
     "traceback": [
      "\u001b[1;31m---------------------------------------------------------------------------\u001b[0m",
      "\u001b[1;31mTypeError\u001b[0m                                 Traceback (most recent call last)",
      "\u001b[1;32m~\\AppData\\Local\\Temp/ipykernel_5988/386540443.py\u001b[0m in \u001b[0;36m<module>\u001b[1;34m\u001b[0m\n\u001b[0;32m     16\u001b[0m \u001b[1;33m\u001b[0m\u001b[0m\n\u001b[0;32m     17\u001b[0m \u001b[1;33m@\u001b[0m\u001b[0mdataclass\u001b[0m\u001b[1;33m\u001b[0m\u001b[1;33m\u001b[0m\u001b[0m\n\u001b[1;32m---> 18\u001b[1;33m \u001b[1;32mclass\u001b[0m \u001b[0mBook\u001b[0m\u001b[1;33m:\u001b[0m\u001b[1;33m\u001b[0m\u001b[1;33m\u001b[0m\u001b[0m\n\u001b[0m\u001b[0;32m     19\u001b[0m     \u001b[1;31m# you can define default values when attributes are declared\u001b[0m\u001b[1;33m\u001b[0m\u001b[1;33m\u001b[0m\u001b[0m\n\u001b[0;32m     20\u001b[0m     \u001b[0mtitle\u001b[0m\u001b[1;33m:\u001b[0m \u001b[0mstr\u001b[0m \u001b[1;33m=\u001b[0m \u001b[1;34m\"No Title\"\u001b[0m\u001b[1;33m\u001b[0m\u001b[1;33m\u001b[0m\u001b[0m\n",
      "\u001b[1;32m~\\AppData\\Local\\Temp/ipykernel_5988/386540443.py\u001b[0m in \u001b[0;36mBook\u001b[1;34m()\u001b[0m\n\u001b[0;32m     22\u001b[0m     \u001b[0mpages\u001b[0m\u001b[1;33m:\u001b[0m \u001b[0mint\u001b[0m \u001b[1;33m=\u001b[0m \u001b[1;36m0\u001b[0m\u001b[1;33m\u001b[0m\u001b[1;33m\u001b[0m\u001b[0m\n\u001b[0;32m     23\u001b[0m     \u001b[1;31m#price: float = field(default = 10.0)\u001b[0m\u001b[1;33m\u001b[0m\u001b[1;33m\u001b[0m\u001b[0m\n\u001b[1;32m---> 24\u001b[1;33m     \u001b[0mprice\u001b[0m\u001b[1;33m:\u001b[0m \u001b[0mfloat\u001b[0m \u001b[1;33m=\u001b[0m \u001b[0mfield\u001b[0m\u001b[1;33m(\u001b[0m\u001b[0mrandom_factory\u001b[0m\u001b[1;33m=\u001b[0m \u001b[0mprice_func\u001b[0m\u001b[1;33m)\u001b[0m\u001b[1;33m\u001b[0m\u001b[1;33m\u001b[0m\u001b[0m\n\u001b[0m\u001b[0;32m     25\u001b[0m \u001b[1;33m\u001b[0m\u001b[0m\n\u001b[0;32m     26\u001b[0m \u001b[0mb1\u001b[0m \u001b[1;33m=\u001b[0m \u001b[0mBook\u001b[0m\u001b[1;33m(\u001b[0m\u001b[1;33m)\u001b[0m\u001b[1;33m\u001b[0m\u001b[1;33m\u001b[0m\u001b[0m\n",
      "\u001b[1;31mTypeError\u001b[0m: field() got an unexpected keyword argument 'random_factory'"
     ]
    }
   ],
   "source": [
    "\"\"\"\n",
    "implementing default values in data classes\n",
    "\n",
    "we can do a little better.\n",
    "we change the argument to the field function from 'default' to 'default_factory',\n",
    "which will call a function provide a default value.\n",
    "so we build a function called default_factory to be called to provide this value.\n",
    "the function is called price_func.\n",
    "\n",
    "So there are various ways to provide default values for dataclass attrubutes.\n",
    "i. you can specify them directly in the attribute list\n",
    "ii. you can use the field function \n",
    "iii. or you can call a function that can generate a value dynamically\n",
    "\n",
    "Just remember that default values have to come first. \n",
    "You cannot have non-default values following default values.\n",
    "\"\"\"\n",
    "\n",
    "from dataclasses import dataclass, field\n",
    "import random\n",
    "\n",
    "def price_func():\n",
    "    return float(random.randrange(20,40))\n",
    "\n",
    "@dataclass\n",
    "class Book:\n",
    "    # you can define default values when attributes are declared\n",
    "    title: str = \"No Title\"\n",
    "    author: str = \"No Author\"\n",
    "    pages: int = 0\n",
    "    # note: default and default_factory are keywords\n",
    "    # it will generate an error if you rename the assignemnt to something else\n",
    "    # price: float = field(random_factory= price_func)\n",
    "    # TypeError: field() got an unexpected keyword argument 'random_factory'f\n",
    "\n",
    "    #price: float = field(default = 10.0)\n",
    "    price: float = field(default_factory= price_func)\n",
    "\n",
    "b1 = Book()\n",
    "#b2 = Book(\"RhinoPython Manual\",\"David Rutten\",195,0.00)\n",
    "b2 = Book(\"RhinoPython Manual\",\"David Rutten\",195)\n",
    "print(b1)\n",
    "print(b2)"
   ]
  },
  {
   "cell_type": "markdown",
   "metadata": {},
   "source": [
    "## Immutable Data Classes\n",
    "\n",
    "Occassionally you will want to create classes whose data cannot be changed. In other words, you want the data within them to be immutable.\n",
    "\n",
    "Python data classes make this possible by specifying an argument to the dataclass decorator."
   ]
  },
  {
   "cell_type": "code",
   "execution_count": 23,
   "metadata": {},
   "outputs": [
    {
     "name": "stdout",
     "output_type": "stream",
     "text": [
      "Value 1\n"
     ]
    }
   ],
   "source": [
    "\"\"\"\n",
    "Creating immutable data classes\n",
    "\"\"\"\n",
    "\n",
    "from dataclasses import dataclass\n",
    "class ImmutableClass:\n",
    "    value1 : str = \"Value 1\"\n",
    "    value2 : int = 0\n",
    "\n",
    "obj = ImmutableClass()\n",
    "print(obj.value1)"
   ]
  },
  {
   "cell_type": "code",
   "execution_count": 24,
   "metadata": {},
   "outputs": [
    {
     "name": "stdout",
     "output_type": "stream",
     "text": [
      "Value 1\n"
     ]
    }
   ],
   "source": [
    "\"\"\"\n",
    "Creating immutable data classes\n",
    "\"\"\"\n",
    "\n",
    "from dataclasses import dataclass\n",
    "\n",
    "@dataclass\n",
    "class ImmutableClass:\n",
    "    value1 : str = \"Value 1\"\n",
    "    value2 : int = 0\n",
    "\n",
    "obj = ImmutableClass()\n",
    "print(obj.value1)"
   ]
  },
  {
   "cell_type": "code",
   "execution_count": 25,
   "metadata": {},
   "outputs": [
    {
     "name": "stdout",
     "output_type": "stream",
     "text": [
      "Value 1\n"
     ]
    },
    {
     "ename": "FrozenInstanceError",
     "evalue": "cannot assign to field 'value1'",
     "output_type": "error",
     "traceback": [
      "\u001b[1;31m---------------------------------------------------------------------------\u001b[0m",
      "\u001b[1;31mFrozenInstanceError\u001b[0m                       Traceback (most recent call last)",
      "\u001b[1;32m~\\AppData\\Local\\Temp/ipykernel_5988/1443801036.py\u001b[0m in \u001b[0;36m<module>\u001b[1;34m\u001b[0m\n\u001b[0;32m     16\u001b[0m \u001b[0mobj\u001b[0m \u001b[1;33m=\u001b[0m \u001b[0mImmutableClass\u001b[0m\u001b[1;33m(\u001b[0m\u001b[1;33m)\u001b[0m\u001b[1;33m\u001b[0m\u001b[1;33m\u001b[0m\u001b[0m\n\u001b[0;32m     17\u001b[0m \u001b[0mprint\u001b[0m\u001b[1;33m(\u001b[0m\u001b[0mobj\u001b[0m\u001b[1;33m.\u001b[0m\u001b[0mvalue1\u001b[0m\u001b[1;33m)\u001b[0m\u001b[1;33m\u001b[0m\u001b[1;33m\u001b[0m\u001b[0m\n\u001b[1;32m---> 18\u001b[1;33m \u001b[0mobj\u001b[0m\u001b[1;33m.\u001b[0m\u001b[0mvalue1\u001b[0m \u001b[1;33m=\u001b[0m \u001b[1;34m\"Another Value\"\u001b[0m\u001b[1;33m\u001b[0m\u001b[1;33m\u001b[0m\u001b[0m\n\u001b[0m\u001b[0;32m     19\u001b[0m \u001b[0mprint\u001b[0m\u001b[1;33m(\u001b[0m\u001b[0mobj\u001b[0m\u001b[1;33m.\u001b[0m\u001b[0mvalue1\u001b[0m\u001b[1;33m)\u001b[0m\u001b[1;33m\u001b[0m\u001b[1;33m\u001b[0m\u001b[0m\n",
      "\u001b[1;32m<string>\u001b[0m in \u001b[0;36m__setattr__\u001b[1;34m(self, name, value)\u001b[0m\n",
      "\u001b[1;31mFrozenInstanceError\u001b[0m: cannot assign to field 'value1'"
     ]
    }
   ],
   "source": [
    "\"\"\"\n",
    "Creating immutable data classes\n",
    "\n",
    "To make the class immutable, one can set the frozen argument to True in the\n",
    "dataclass decorator. This now prevents any of the attributes in the class \n",
    "definition from being modified.\n",
    "\"\"\"\n",
    "\n",
    "from dataclasses import dataclass\n",
    "\n",
    "@dataclass(frozen=True) # TODO: The frozen argument makes the class immutable\n",
    "class ImmutableClass:\n",
    "    value1 : str = \"Value 1\"\n",
    "    value2 : int = 0\n",
    "\n",
    "obj = ImmutableClass()\n",
    "print(obj.value1)\n",
    "obj.value1 = \"Another Value\"\n",
    "print(obj.value1)\n",
    "\n",
    "# FrozenInstanceError: cannot assign to field 'value1'"
   ]
  },
  {
   "cell_type": "code",
   "execution_count": 27,
   "metadata": {},
   "outputs": [
    {
     "name": "stdout",
     "output_type": "stream",
     "text": [
      "Value 1\n"
     ]
    },
    {
     "ename": "FrozenInstanceError",
     "evalue": "cannot assign to field 'value2'",
     "output_type": "error",
     "traceback": [
      "\u001b[1;31m---------------------------------------------------------------------------\u001b[0m",
      "\u001b[1;31mFrozenInstanceError\u001b[0m                       Traceback (most recent call last)",
      "\u001b[1;32m~\\AppData\\Local\\Temp/ipykernel_5988/350347202.py\u001b[0m in \u001b[0;36m<module>\u001b[1;34m\u001b[0m\n\u001b[0;32m     23\u001b[0m \u001b[1;33m\u001b[0m\u001b[0m\n\u001b[0;32m     24\u001b[0m \u001b[1;31m# we try to call the function with a new value\u001b[0m\u001b[1;33m\u001b[0m\u001b[1;33m\u001b[0m\u001b[0m\n\u001b[1;32m---> 25\u001b[1;33m \u001b[0mobj\u001b[0m\u001b[1;33m.\u001b[0m\u001b[0msomefunc\u001b[0m\u001b[1;33m(\u001b[0m\u001b[1;36m20\u001b[0m\u001b[1;33m)\u001b[0m\u001b[1;33m\u001b[0m\u001b[1;33m\u001b[0m\u001b[0m\n\u001b[0m\u001b[0;32m     26\u001b[0m \u001b[1;33m\u001b[0m\u001b[0m\n\u001b[0;32m     27\u001b[0m \u001b[1;31m# FrozenInstanceError: cannot assign to field 'value1'\u001b[0m\u001b[1;33m\u001b[0m\u001b[1;33m\u001b[0m\u001b[0m\n",
      "\u001b[1;32m~\\AppData\\Local\\Temp/ipykernel_5988/350347202.py\u001b[0m in \u001b[0;36msomefunc\u001b[1;34m(self, newval)\u001b[0m\n\u001b[0;32m     15\u001b[0m \u001b[1;33m\u001b[0m\u001b[0m\n\u001b[0;32m     16\u001b[0m     \u001b[1;32mdef\u001b[0m \u001b[0msomefunc\u001b[0m\u001b[1;33m(\u001b[0m\u001b[0mself\u001b[0m\u001b[1;33m,\u001b[0m\u001b[0mnewval\u001b[0m\u001b[1;33m)\u001b[0m\u001b[1;33m:\u001b[0m\u001b[1;33m\u001b[0m\u001b[1;33m\u001b[0m\u001b[0m\n\u001b[1;32m---> 17\u001b[1;33m         \u001b[0mself\u001b[0m\u001b[1;33m.\u001b[0m\u001b[0mvalue2\u001b[0m \u001b[1;33m=\u001b[0m \u001b[0mnewval\u001b[0m\u001b[1;33m\u001b[0m\u001b[1;33m\u001b[0m\u001b[0m\n\u001b[0m\u001b[0;32m     18\u001b[0m \u001b[1;33m\u001b[0m\u001b[0m\n\u001b[0;32m     19\u001b[0m \u001b[0mobj\u001b[0m \u001b[1;33m=\u001b[0m \u001b[0mImmutableClass\u001b[0m\u001b[1;33m(\u001b[0m\u001b[1;33m)\u001b[0m\u001b[1;33m\u001b[0m\u001b[1;33m\u001b[0m\u001b[0m\n",
      "\u001b[1;32m<string>\u001b[0m in \u001b[0;36m__setattr__\u001b[1;34m(self, name, value)\u001b[0m\n",
      "\u001b[1;31mFrozenInstanceError\u001b[0m: cannot assign to field 'value2'"
     ]
    }
   ],
   "source": [
    "\"\"\"\n",
    "Creating immutable data classes\n",
    "\n",
    "To make the class immutable, one can set the frozen argument to True in the\n",
    "dataclass decorator. This now prevents any of the attributes in the class \n",
    "definition from being modified.\n",
    "\"\"\"\n",
    "\n",
    "from dataclasses import dataclass\n",
    "\n",
    "@dataclass(frozen=True) # TODO: The frozen argument makes the class immutable\n",
    "class ImmutableClass:\n",
    "    value1 : str = \"Value 1\"\n",
    "    value2 : int = 0\n",
    "\n",
    "    def somefunc(self,newval):\n",
    "        self.value2 = newval\n",
    "\n",
    "obj = ImmutableClass()\n",
    "print(obj.value1)\n",
    "# obj.value1 = \"Another Value\"\n",
    "# print(obj.value1)\n",
    "\n",
    "# we try to call the function with a new value\n",
    "obj.somefunc(20)\n",
    "\n",
    "# FrozenInstanceError: cannot assign to field 'value2'\n",
    "# We get the Frozen instance error...."
   ]
  },
  {
   "cell_type": "markdown",
   "metadata": {},
   "source": [
    "So creating frozen data classes can be useful when you want the class to represent data that you know isn't going to change and with the dataclass decorator it's really easy to do.\n",
    "\n",
    "(10:41 03/07/2022)"
   ]
  },
  {
   "cell_type": "markdown",
   "metadata": {},
   "source": [
    "QUIZ"
   ]
  },
  {
   "cell_type": "code",
   "execution_count": null,
   "metadata": {},
   "outputs": [],
   "source": []
  },
  {
   "cell_type": "code",
   "execution_count": null,
   "metadata": {},
   "outputs": [],
   "source": []
  },
  {
   "cell_type": "code",
   "execution_count": null,
   "metadata": {},
   "outputs": [],
   "source": []
  },
  {
   "cell_type": "code",
   "execution_count": null,
   "metadata": {},
   "outputs": [],
   "source": []
  }
 ],
 "metadata": {
  "interpreter": {
   "hash": "a077222d77dfe082b8f1dd562ad70e458ac2ab76993a0b248ab0476e32e9e8dd"
  },
  "kernelspec": {
   "display_name": "Python 3.9.7 ('base')",
   "language": "python",
   "name": "python3"
  },
  "language_info": {
   "codemirror_mode": {
    "name": "ipython",
    "version": 3
   },
   "file_extension": ".py",
   "mimetype": "text/x-python",
   "name": "python",
   "nbconvert_exporter": "python",
   "pygments_lexer": "ipython3",
   "version": "3.9.7"
  },
  "orig_nbformat": 4
 },
 "nbformat": 4,
 "nbformat_minor": 2
}
