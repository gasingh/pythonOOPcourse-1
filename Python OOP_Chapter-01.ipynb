{
 "cells": [
  {
   "cell_type": "markdown",
   "metadata": {},
   "source": [
    "# Chapter 1\n",
    "Object Oriented Python\n",
    "\n",
    "<input type=\"checkbox\" enabled> OOP Concepts <br>\n",
    "<input type=\"checkbox\" enabled>  Making a Class <br>\n",
    "<input type=\"checkbox\" enabled>  Type Checking for a class using type and isinstance and object as root <br>\n",
    "<input type=\"checkbox\" enabled>  Class Attribrutes (ALL_CAPS) and Class Methods (pass cls and @classmethod decorator) <br>\n",
    "<br>\n",
    "<input type=\"checkbox\" enabled>  instance methods <br>\n",
    "<input type=\"checkbox\" enabled>  class methods <br>\n",
    "<input type=\"checkbox\" enabled>  static methods <br>\n"
   ]
  },
  {
   "cell_type": "markdown",
   "metadata": {},
   "source": [
    "## 01"
   ]
  },
  {
   "cell_type": "markdown",
   "metadata": {},
   "source": [
    "### Initial Check:\n",
    "\n",
    "check the python install in windows cmd\n",
    "\n",
    "``\n",
    "python --version\n",
    "``"
   ]
  },
  {
   "cell_type": "markdown",
   "metadata": {},
   "source": [
    "### OOP Principles\n",
    "\n",
    "Reasons and Motivations:\n",
    "\n",
    "1. Python doesnot require you to use classes/ objects.\n",
    "2. Complex programs cane be hard to organize.\n",
    "3. Group data and functions that operate on that data are isolated.\n",
    "   1. Promotes modularization.\n",
    "   2. Encourages a black box approach. \n",
    "   3. 4 Pillars of OOP are APIE:\n",
    "      1. **A** : Abstraction\n",
    "      2. **P** : Polymorphism\n",
    "      3. **I** : Inheritance\n",
    "      4. **E** : Encapsulation\n",
    "   4. \n"
   ]
  },
  {
   "cell_type": "markdown",
   "metadata": {},
   "source": [
    "### Basic Concepts:\n",
    "\n",
    "1. CLASS | Blueprint\n",
    "1. METHODS | Regular functions inside a class  _(what it can do?)_\n",
    "1. ATTRIBUTES | Variables inside a class _(what qualities does it exhibit?)_\n",
    "1. \n",
    "1. OBJECT | A specific instance of a class\n",
    "1. INHERITANCE | Means by which a class can inherit capabilities from another class \n",
    "(base class)\n",
    "1. COMPOSITION | Building complex objects out of other objects\n"
   ]
  },
  {
   "cell_type": "code",
   "execution_count": null,
   "metadata": {},
   "outputs": [],
   "source": []
  },
  {
   "cell_type": "markdown",
   "metadata": {},
   "source": [
    "## 02"
   ]
  },
  {
   "cell_type": "code",
   "execution_count": null,
   "metadata": {},
   "outputs": [],
   "source": [
    "# Basic Class definitions\n",
    "\n",
    "class Book:\n",
    "    # no parentheses as there is no inheritance \n",
    "    pass\n",
    "\n",
    "b1 = Book()"
   ]
  },
  {
   "cell_type": "code",
   "execution_count": 2,
   "metadata": {},
   "outputs": [
    {
     "name": "stdout",
     "output_type": "stream",
     "text": [
      "Brave New World\n",
      "War and Peace\n"
     ]
    }
   ],
   "source": [
    "# Basic Class definitions: Define a basic Python Class & Create Instances of it.\n",
    "\n",
    "# MAKE A NEW CLASS\n",
    "class Book:\n",
    "    # CONSTRUCTION/ INITIALIZER FUNCTION where we initialize Attributes\n",
    "    def __init__(self,title):\n",
    "        self.title = title\n",
    "\n",
    "# CREATE INSTANCES OF THE CLASS\n",
    "b1 = Book(\"Brave New World\")\n",
    "b2 = Book(\"War and Peace\")\n",
    "\n",
    "# PRINT THE OBJECT PROPERTIES OF THE INSTANCES\n",
    "print(b1.title)\n",
    "print(b2.title)"
   ]
  },
  {
   "cell_type": "code",
   "execution_count": 10,
   "metadata": {},
   "outputs": [
    {
     "name": "stdout",
     "output_type": "stream",
     "text": [
      "Brave New World\n",
      "War and Peace\n",
      "<bound method Book.getprice of <__main__.Book object at 0x000000706CD15FA0>>\n",
      "39.95\n"
     ]
    }
   ],
   "source": [
    "# Basic Class definitions: Define a basic Python Class & Create Instances of it.\n",
    "# Using instance methods and attributes\n",
    "\n",
    "# MAKE A NEW CLASS\n",
    "class Book:\n",
    "    # CONSTRUCTION/ INITIALIZER FUNCTION where we initialize Attributes\n",
    "    def __init__(self,title,author, pages, price):\n",
    "        self.title = title\n",
    "        self.author = author\n",
    "        self.pages = pages\n",
    "        self.price = price\n",
    "    \n",
    "    def getprice(self):\n",
    "        return self.price\n",
    "\n",
    "# CREATE INSTANCES OF THE CLASS\n",
    "b1 = Book(\"Brave New World\",\"Leo Tolstoy\",1225,39.95)\n",
    "b2 = Book(\"War and Peace\",\"JD Sallinger\",234,29.95)\n",
    "\n",
    "# PRINT THE OBJECT PROPERTIES OF THE INSTANCES\n",
    "print(b1.title)\n",
    "print(b2.title)\n",
    "print(b1.getprice)\n",
    "print(b1.getprice())"
   ]
  },
  {
   "cell_type": "code",
   "execution_count": null,
   "metadata": {},
   "outputs": [],
   "source": [
    "# Basic Class definitions: Define a basic Python Class & Create Instances of it.\n",
    "# Using instance methods and attributes\n",
    "\n",
    "\"\"\"\n",
    "NOTES: \n",
    "Single underscores are a Python naming convention indicating a name is meant \n",
    "for internal use.\n",
    "https://dbader.org/blog/meaning-of-underscores-in-python\n",
    "08:11 02/05/2022\n",
    "\"\"\"\n",
    "\n",
    "# MAKE A NEW CLASS\n",
    "class Book:\n",
    "    # CONSTRUCTION/ INITIALIZER FUNCTION where we initialize Attributes\n",
    "    def __init__(self,title,author, pages, price):\n",
    "        self.title = title\n",
    "        self.author = author\n",
    "        self.pages = pages\n",
    "        self.price = price\n",
    "    \n",
    "    def getprice(self):\n",
    "        if hasattr(self,\"_discount\"):\n",
    "            return(self.price - self._discount)\n",
    "        return self.price\n",
    "    \n",
    "    def setdiscount(self,amount):\n",
    "        # by underscore we specify this as private class function\n",
    "        self._discount = amount\n",
    "\n",
    "b1 = Book(\"Brave New World\",\"Leo Tolstoy\",1225,39.95)\n",
    "b2 = Book(\"War and Peace\",\"JD Sallinger\",234,29.95)\n",
    "\n",
    "print(b1.title)\n",
    "print(b2.title)\n",
    "print(b1.getprice)\n",
    "print(b1.getprice())\n",
    "print(b2.getprice())    # price of book 2 before the discount\n",
    "b2.setdiscount(0.25)\n",
    "print(b2.getprice())    # price of book 2 AFTER the discount"
   ]
  },
  {
   "cell_type": "code",
   "execution_count": 9,
   "metadata": {},
   "outputs": [
    {
     "name": "stdout",
     "output_type": "stream",
     "text": [
      "Brave New World\n",
      "29.95\n",
      "This is a secret attribute\n"
     ]
    }
   ],
   "source": [
    "# INSTANCE METHODS\n",
    "# Basic Class definitions: Define a basic Python Class & Create Instances of it.\n",
    "# Illustrating __ | double underscore to make the property to be invisible\n",
    "# At the start of an attribute/ method name\n",
    "\n",
    "\"\"\"\n",
    "NOTES: \n",
    "Single underscores are a Python naming convention indicating a name is meant \n",
    "for internal use.\n",
    "https://dbader.org/blog/meaning-of-underscores-in-python\n",
    "08:11 02/05/2022\n",
    "\"\"\"\n",
    "\n",
    "# MAKE A NEW CLASS\n",
    "class Book:\n",
    "    # CONSTRUCTION/ INITIALIZER FUNCTION where we initialize Attributes\n",
    "    def __init__(self,title,author, pages, price):\n",
    "        self.title = title\n",
    "        self.author = author\n",
    "        self.pages = pages\n",
    "        self.price = price\n",
    "        # mangling\n",
    "        self.__secret = \"This is a secret attribute\"\n",
    "    \n",
    "    def getprice(self):\n",
    "        if hasattr(self,\"_discount\"):\n",
    "            return(self.price - self._discount)\n",
    "        return self.price\n",
    "    \n",
    "    def setdiscount(self,amount):\n",
    "        # by underscore we specify this as private class function\n",
    "        self._discount = amount\n",
    "\n",
    "b1 = Book(\"Brave New World\",\"Leo Tolstoy\",1225,39.95)\n",
    "b2 = Book(\"War and Peace\",\"JD Sallinger\",234,29.95)\n",
    "\n",
    "print(b1.title)\n",
    "print(b2.getprice()) \n",
    "\n",
    "#print(b2.__secret)       # AttributeError\n",
    "print(b2._Book__secret) ``# This is a secret attribute\n",
    "\n",
    "# you can access it by accessing the class itself in private mode...\n"
   ]
  },
  {
   "cell_type": "code",
   "execution_count": null,
   "metadata": {},
   "outputs": [],
   "source": [
    "# TypeChecking for Objects in Python \n",
    "\n",
    "\"\"\"What type/ class a given object is?\n",
    "\"\"\"\n",
    "\n",
    "class Book:\n",
    "    def __init__(self, title):\n",
    "        self.title = title\n",
    "\n",
    "class Newspaper:\n",
    "    def __init__(self,name):\n",
    "        self.name = name\n",
    "\n",
    "# Create some instance of the classes\n",
    "b1 = Book(\"The Nightingale\")\n",
    "b2 = Book(\"The Grapes of Wrath\")\n",
    "n1 = Newspaper(\"The Times of India\")\n",
    "n2 = Newspaper(\"The Evening Standard\")\n",
    "\n",
    "# Use the type function to see the object type\n",
    "print(type(b1))\n",
    "print(type(n1))\n",
    "\n",
    "# Compare the object types\n",
    "print(type(b1) == type(b1))\n",
    "print(type(b1) == type(n1))\n",
    "\n",
    "# Use isinstance to compare a specific to a know type\n",
    "print(isinstance(b1,Book))\n",
    "print(isinstance(b1,Newspaper))\n",
    "print(isinstance(n1,Newspaper))\n",
    "\n",
    "print(\"_ _ _ _ \")\n",
    "# All objects in Python derive from the Object Type \n",
    "# (Just like System.Object of C#)\n",
    "print(isinstance(b1, object))\n",
    "print(isinstance(n1, object))\n",
    "print(isinstance(\"Hello World\", object))\n",
    "print(isinstance(\"Hello World\", str))\n",
    "print(isinstance(\"Hello World\", int))\n",
    "print(isinstance(99, int))\n"
   ]
  },
  {
   "cell_type": "code",
   "execution_count": 31,
   "metadata": {},
   "outputs": [
    {
     "name": "stdout",
     "output_type": "stream",
     "text": [
      "Book Types: ('HARDCOVER', 'PAPERBACK', 'EBOOK')\n"
     ]
    }
   ],
   "source": [
    "# CLASS METHODS\n",
    "# Class level methods and attributes.\n",
    "# Shared across all class objects\n",
    "\n",
    "# this is opposed to instance methods\n",
    "# A class attribrute is a in ALL CAPS!\n",
    "\n",
    "class Book:\n",
    "\n",
    "    # Class Property\n",
    "    BOOK_TYPES = (\"HARDCOVER\", \"PAPERBACK\", \"EBOOK\")\n",
    "\n",
    "    def __init__(self, title, booktype):\n",
    "        self.title = title\n",
    "        if (not booktype in Book.BOOK_TYPES):\n",
    "            raise ValueError(f\"{booktype} is not a valid booktype\")\n",
    "        else:\n",
    "            self.BOOK_TYPE = booktype\n",
    "    \n",
    "    # Class Method\n",
    "    @classmethod\n",
    "    def getbooktypes(cls):\n",
    "        return cls.BOOK_TYPES\n",
    "\n",
    "print(\"Book Types:\", Book.getbooktypes())\n",
    "\n",
    "b1 = Book(\"Title 1\", \"HARDCOVER\")\n",
    "# b2 = Book(\"Title 2\", \"COMIC\")\n",
    "# ValueError: COMIC is not a valid booktype\n",
    "b2 = Book(\"Title 2\", \"EBOOK\")\n"
   ]
  },
  {
   "cell_type": "code",
   "execution_count": 35,
   "metadata": {},
   "outputs": [
    {
     "name": "stdout",
     "output_type": "stream",
     "text": [
      "Book Types: ('HARDCOVER', 'PAPERBACK', 'EBOOK')\n",
      "None\n",
      "[<__main__.Book object at 0x00000024C137F5E0>, <__main__.Book object at 0x00000024C0614310>]\n",
      "[<__main__.Book object at 0x00000024C137F5E0>, <__main__.Book object at 0x00000024C0614310>]\n"
     ]
    }
   ],
   "source": [
    "# STATIC METHODS\n",
    "\n",
    "\"\"\"\n",
    "NOTES ON STATIC METHODS:\n",
    "\n",
    "1. Static Method is a GLOBAL METHOD inside a Class.\n",
    "2. They don't modify the state of either the object or the class.\n",
    "3. They are useful in scenarios where you don't really need to access the \n",
    "properties of any particular object/ class itself, but where is makes sense for \n",
    "the method to belong to the class.\n",
    "4. In other words it's a good way of namespacing certain kinds of methods.\n",
    "5. Whereas you might just make a global function. This is a way of taking the \n",
    "global function and placing it in classe's namespace.\n",
    "\n",
    "EXAMPLE:\n",
    "\n",
    "One good example of a Static Method is to implement a singleton design pattern.\n",
    "    - It makes sure that only instance of a particular variable/ object is ever \n",
    "    created.\n",
    "Let's imagine our book class is responsible to keeping track of a list of books.\n",
    "We could create a global variable to hold all the books,\n",
    "but it might be a better approach to encapsulate that behaviour in the book class.\n",
    "\n",
    "i. So we create a double underscore attribrute named __booklist\n",
    "ii. (this essentially makes it a private variable)\n",
    "iii. Then we create a private method that exposes this property to the consumers \n",
    "of the book class.\n",
    "\"\"\"\n",
    "\n",
    "class Book:\n",
    "\n",
    "    # --------------------------------------------------------------------------\n",
    "    # Class Property\n",
    "    # Property defined at the class level and shared by all instances\n",
    "    BOOK_TYPES = (\"HARDCOVER\", \"PAPERBACK\", \"EBOOK\")\n",
    "    # Class Method\n",
    "    @classmethod\n",
    "    def getbooktypes(cls):\n",
    "        return cls.BOOK_TYPES\n",
    "    \n",
    "    # --------------------------------------------------------------------------\n",
    "    # Class Property which is hidden from other classes (by using double underscore) \n",
    "    __booklist = None\n",
    "    # Static Method\n",
    "    @staticmethod\n",
    "    def getbooklist():\n",
    "        if Book.__booklist == None:\n",
    "            Book.__booklist = []\n",
    "        else: \n",
    "            return Book.__booklist\n",
    "\n",
    "    # --------------------------------------------------------------------------\n",
    "    def __init__(self, title, booktype):\n",
    "        self.title = title\n",
    "        if (not booktype in Book.BOOK_TYPES):\n",
    "            raise ValueError(f\"{booktype} is not a valid booktype\")\n",
    "        else:\n",
    "            self.BOOK_TYPE = booktype\n",
    "    \n",
    "\n",
    "# ACCESS CLASS ATTRIBRUTE\n",
    "# Note we use the class name to call the class method\n",
    "print(\"Book Types:\", Book.getbooktypes())\n",
    "\n",
    "# CREATE SOME BOOK INSTANCES\n",
    "b1 = Book(\"Title 1\", \"HARDCOVER\")\n",
    "# b2 = Book(\"Title 2\", \"COMIC\")         # this will generate an error\n",
    "# ValueError: COMIC is not a valid booktype\n",
    "b2 = Book(\"Title 2\", \"EBOOK\")           # this is the correction.\n",
    "\n",
    "# USE THE STATIC METHOD TO ACCESS A SINGLETON OBJECT\n",
    "# Use the static method feature to \n",
    "thebooks = Book.getbooklist()\n",
    "print(thebooks)\n",
    "thebooks = Book.getbooklist()\n",
    "thebooks.extend([b1,b2])\n",
    "print(thebooks)\n",
    "\n",
    "# just testing the singleton design pattern below!\n",
    "thebooks2 = Book.getbooklist()\n",
    "print(thebooks2)        \n",
    "# it prints the same thing.... this is the beauty! It makes sure that if it's \n",
    "# instanciated once, it retains it during the lifetime of the program. WOW\n",
    "# 09:36 02/05/2022"
   ]
  },
  {
   "cell_type": "code",
   "execution_count": null,
   "metadata": {},
   "outputs": [],
   "source": []
  },
  {
   "cell_type": "code",
   "execution_count": null,
   "metadata": {},
   "outputs": [],
   "source": [
    "\n",
    "\n"
   ]
  }
 ],
 "metadata": {
  "interpreter": {
   "hash": "6d46af94c2bbce495f1e668725902fa517c90b1782bcfe2fce0dd9868df553d3"
  },
  "kernelspec": {
   "display_name": "Python 3.9.7 ('base')",
   "language": "python",
   "name": "python3"
  },
  "language_info": {
   "codemirror_mode": {
    "name": "ipython",
    "version": 3
   },
   "file_extension": ".py",
   "mimetype": "text/x-python",
   "name": "python",
   "nbconvert_exporter": "python",
   "pygments_lexer": "ipython3",
   "version": "3.9.7"
  },
  "orig_nbformat": 4
 },
 "nbformat": 4,
 "nbformat_minor": 2
}
