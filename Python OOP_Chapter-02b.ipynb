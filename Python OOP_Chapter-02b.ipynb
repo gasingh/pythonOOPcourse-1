{
 "cells": [
  {
   "cell_type": "markdown",
   "metadata": {},
   "source": [
    "# Chapter 02"
   ]
  },
  {
   "cell_type": "markdown",
   "metadata": {},
   "source": [
    "## 2.1 Inheritance"
   ]
  },
  {
   "cell_type": "markdown",
   "metadata": {},
   "source": [
    "### i. A simple set of classes (without inheritance)"
   ]
  },
  {
   "cell_type": "code",
   "execution_count": 2,
   "metadata": {},
   "outputs": [
    {
     "name": "stdout",
     "output_type": "stream",
     "text": [
      "Sarojini Naidu\n",
      "New York Times Company\n",
      "29.0 5.99 6.0\n"
     ]
    }
   ],
   "source": [
    "## Inheritance in Classes\n",
    "\n",
    "class Book:\n",
    "    def __init__(self,title,author,pages,price):\n",
    "        self.title = title\n",
    "        self.price = price\n",
    "        self.author = author\n",
    "        self.pages = pages\n",
    "\n",
    "class Magazine:\n",
    "    def __init__(self, title,publisher,price,period):\n",
    "        self.title = title\n",
    "        self.price = price\n",
    "        self.period = period\n",
    "        self.publisher = publisher\n",
    "\n",
    "class Newspaper:\n",
    "    def __init__(self, title,publisher,price,period):\n",
    "        self.title = title\n",
    "        self.price = price\n",
    "        self.period = period\n",
    "        self.publisher = publisher\n",
    "\n",
    "\n",
    "b1 = Book(\"Nightingale\", \"Sarojini Naidu\",311,29.0)\n",
    "n1 = Newspaper(\"NY Times\", \"New York Times Company\",6.0,\"Daily\")\n",
    "m1 = Magazine(\"Scientific American\", \"Springer Nature\",5.99,\"Monthly\")\n",
    "\n",
    "print(b1.author)\n",
    "print(n1.publisher)\n",
    "print(b1.price,m1.price,n1.price)"
   ]
  },
  {
   "cell_type": "markdown",
   "metadata": {},
   "source": [
    "### ii. Creating inheritance: Errors!"
   ]
  },
  {
   "cell_type": "code",
   "execution_count": 3,
   "metadata": {},
   "outputs": [
    {
     "ename": "TypeError",
     "evalue": "object.__init__() takes exactly one argument (the instance to initialize)",
     "output_type": "error",
     "traceback": [
      "\u001b[1;31m---------------------------------------------------------------------------\u001b[0m",
      "\u001b[1;31mTypeError\u001b[0m                                 Traceback (most recent call last)",
      "\u001b[1;32m~\\AppData\\Local\\Temp/ipykernel_3468/1464244971.py\u001b[0m in \u001b[0;36m<module>\u001b[1;34m\u001b[0m\n\u001b[0;32m     40\u001b[0m \u001b[1;33m\u001b[0m\u001b[0m\n\u001b[0;32m     41\u001b[0m \u001b[0mb1\u001b[0m \u001b[1;33m=\u001b[0m \u001b[0mBook\u001b[0m\u001b[1;33m(\u001b[0m\u001b[1;34m\"Nightingale\"\u001b[0m\u001b[1;33m,\u001b[0m \u001b[1;34m\"Sarojini Naidu\"\u001b[0m\u001b[1;33m,\u001b[0m\u001b[1;36m311\u001b[0m\u001b[1;33m,\u001b[0m\u001b[1;36m29.0\u001b[0m\u001b[1;33m)\u001b[0m\u001b[1;33m\u001b[0m\u001b[1;33m\u001b[0m\u001b[0m\n\u001b[1;32m---> 42\u001b[1;33m \u001b[0mn1\u001b[0m \u001b[1;33m=\u001b[0m \u001b[0mNewspaper\u001b[0m\u001b[1;33m(\u001b[0m\u001b[1;34m\"NY Times\"\u001b[0m\u001b[1;33m,\u001b[0m \u001b[1;34m\"New York Times Company\"\u001b[0m\u001b[1;33m,\u001b[0m\u001b[1;36m6.0\u001b[0m\u001b[1;33m,\u001b[0m\u001b[1;34m\"Daily\"\u001b[0m\u001b[1;33m)\u001b[0m\u001b[1;33m\u001b[0m\u001b[1;33m\u001b[0m\u001b[0m\n\u001b[0m\u001b[0;32m     43\u001b[0m \u001b[0mm1\u001b[0m \u001b[1;33m=\u001b[0m \u001b[0mMagazine\u001b[0m\u001b[1;33m(\u001b[0m\u001b[1;34m\"Scientific American\"\u001b[0m\u001b[1;33m,\u001b[0m \u001b[1;34m\"Springer Nature\"\u001b[0m\u001b[1;33m,\u001b[0m\u001b[1;36m5.99\u001b[0m\u001b[1;33m,\u001b[0m\u001b[1;34m\"Monthly\"\u001b[0m\u001b[1;33m)\u001b[0m\u001b[1;33m\u001b[0m\u001b[1;33m\u001b[0m\u001b[0m\n\u001b[0;32m     44\u001b[0m \u001b[1;33m\u001b[0m\u001b[0m\n",
      "\u001b[1;32m~\\AppData\\Local\\Temp/ipykernel_3468/1464244971.py\u001b[0m in \u001b[0;36m__init__\u001b[1;34m(self, title, publisher, price, period)\u001b[0m\n\u001b[0;32m     36\u001b[0m \u001b[1;32mclass\u001b[0m \u001b[0mNewspaper\u001b[0m\u001b[1;33m:\u001b[0m\u001b[1;33m\u001b[0m\u001b[1;33m\u001b[0m\u001b[0m\n\u001b[0;32m     37\u001b[0m     \u001b[1;32mdef\u001b[0m \u001b[0m__init__\u001b[0m\u001b[1;33m(\u001b[0m\u001b[0mself\u001b[0m\u001b[1;33m,\u001b[0m \u001b[0mtitle\u001b[0m\u001b[1;33m,\u001b[0m\u001b[0mpublisher\u001b[0m\u001b[1;33m,\u001b[0m\u001b[0mprice\u001b[0m\u001b[1;33m,\u001b[0m\u001b[0mperiod\u001b[0m\u001b[1;33m)\u001b[0m\u001b[1;33m:\u001b[0m\u001b[1;33m\u001b[0m\u001b[1;33m\u001b[0m\u001b[0m\n\u001b[1;32m---> 38\u001b[1;33m         \u001b[0msuper\u001b[0m\u001b[1;33m(\u001b[0m\u001b[1;33m)\u001b[0m\u001b[1;33m.\u001b[0m\u001b[0m__init__\u001b[0m\u001b[1;33m(\u001b[0m\u001b[0mtitle\u001b[0m\u001b[1;33m,\u001b[0m\u001b[0mprice\u001b[0m\u001b[1;33m,\u001b[0m\u001b[0mperiod\u001b[0m\u001b[1;33m,\u001b[0m\u001b[0mpublisher\u001b[0m\u001b[1;33m)\u001b[0m\u001b[1;33m\u001b[0m\u001b[1;33m\u001b[0m\u001b[0m\n\u001b[0m\u001b[0;32m     39\u001b[0m \u001b[1;33m\u001b[0m\u001b[0m\n\u001b[0;32m     40\u001b[0m \u001b[1;33m\u001b[0m\u001b[0m\n",
      "\u001b[1;31mTypeError\u001b[0m: object.__init__() takes exactly one argument (the instance to initialize)"
     ]
    }
   ],
   "source": [
    "# ERROR 1\n",
    "## Inheritance in Classes\n",
    "\n",
    "\"\"\"\n",
    "Notes on the need for inheritance among the set of classes:\n",
    "\n",
    "- Each of the these was a separate implementation.\n",
    "- We see that there is a lot of duplication among the data that each class holds.\n",
    "- We can improve the organization of these classes and make it easier to introduce\n",
    "new classes by implementing some inheritance and class hierarchy.\n",
    "\"\"\"\n",
    "\n",
    "# we define a new base class called publication and have that class to define \n",
    "# some common attribrutes\n",
    "\n",
    "class Publication:\n",
    "    def __init__(self,title,price):\n",
    "        self.title = title\n",
    "        self.price = price\n",
    "\n",
    "class Periodical(Publication):\n",
    "    def __init__(self,title,price,period,publisher):\n",
    "        super().__init__(title,price)   # 1 , 2 \n",
    "        self.period = period            # 3\n",
    "        self.publisher = publisher      # 4\n",
    "\n",
    "class Book(Publication):\n",
    "    def __init__(self,title,author,pages,price):\n",
    "        self.author = author\n",
    "        self.pages = pages\n",
    "\n",
    "class Magazine(Periodical):\n",
    "    def __init__(self, title,publisher,price,period):\n",
    "        super().__init__(title,price,period,publisher)\n",
    "        #               (    1,    2,   3,          4)\n",
    "\n",
    "class Newspaper:\n",
    "    def __init__(self, title,publisher,price,period):\n",
    "        super().__init__(title,price,period,publisher)\n",
    "\n",
    "\n",
    "b1 = Book(\"Nightingale\", \"Sarojini Naidu\",311,29.0)\n",
    "n1 = Newspaper(\"NY Times\", \"New York Times Company\",6.0,\"Daily\")\n",
    "m1 = Magazine(\"Scientific American\", \"Springer Nature\",5.99,\"Monthly\")\n",
    "\n",
    "print(b1.author)\n",
    "print(n1.publisher)\n",
    "print(b1.price,m1.price,n1.price)\n",
    "\n",
    "# LOOK AT THE ERROR IF THE YOU FORGET TO INHERIT FROM THE BASE CLASS\n",
    "# TypeError: object.__init__() takes exactly one argument (the instance to initialize)"
   ]
  },
  {
   "cell_type": "code",
   "execution_count": 4,
   "metadata": {},
   "outputs": [
    {
     "name": "stdout",
     "output_type": "stream",
     "text": [
      "Sarojini Naidu\n",
      "New York Times Company\n"
     ]
    },
    {
     "ename": "AttributeError",
     "evalue": "'Book' object has no attribute 'price'",
     "output_type": "error",
     "traceback": [
      "\u001b[1;31m---------------------------------------------------------------------------\u001b[0m",
      "\u001b[1;31mAttributeError\u001b[0m                            Traceback (most recent call last)",
      "\u001b[1;32m~\\AppData\\Local\\Temp/ipykernel_3468/1960785026.py\u001b[0m in \u001b[0;36m<module>\u001b[1;34m\u001b[0m\n\u001b[0;32m     45\u001b[0m \u001b[0mprint\u001b[0m\u001b[1;33m(\u001b[0m\u001b[0mb1\u001b[0m\u001b[1;33m.\u001b[0m\u001b[0mauthor\u001b[0m\u001b[1;33m)\u001b[0m\u001b[1;33m\u001b[0m\u001b[1;33m\u001b[0m\u001b[0m\n\u001b[0;32m     46\u001b[0m \u001b[0mprint\u001b[0m\u001b[1;33m(\u001b[0m\u001b[0mn1\u001b[0m\u001b[1;33m.\u001b[0m\u001b[0mpublisher\u001b[0m\u001b[1;33m)\u001b[0m\u001b[1;33m\u001b[0m\u001b[1;33m\u001b[0m\u001b[0m\n\u001b[1;32m---> 47\u001b[1;33m \u001b[0mprint\u001b[0m\u001b[1;33m(\u001b[0m\u001b[0mb1\u001b[0m\u001b[1;33m.\u001b[0m\u001b[0mprice\u001b[0m\u001b[1;33m,\u001b[0m\u001b[0mm1\u001b[0m\u001b[1;33m.\u001b[0m\u001b[0mprice\u001b[0m\u001b[1;33m,\u001b[0m\u001b[0mn1\u001b[0m\u001b[1;33m.\u001b[0m\u001b[0mprice\u001b[0m\u001b[1;33m)\u001b[0m\u001b[1;33m\u001b[0m\u001b[1;33m\u001b[0m\u001b[0m\n\u001b[0m",
      "\u001b[1;31mAttributeError\u001b[0m: 'Book' object has no attribute 'price'"
     ]
    }
   ],
   "source": [
    "# ERROR 2\n",
    "## Inheritance in Classes\n",
    "\n",
    "\"\"\"\n",
    "Notes on the need for inheritance among the set of classes:\n",
    "\n",
    "- Each of the these was a separate implementation.\n",
    "- We see that there is a lot of duplication among the data that each class holds.\n",
    "- We can improve the organization of these classes and make it easier to introduce\n",
    "new classes by implementing some inheritance and class hierarchy.\n",
    "\"\"\"\n",
    "\n",
    "# we define a new base class called publication and have that class to define \n",
    "# some common attribrutes\n",
    "\n",
    "class Publication:\n",
    "    def __init__(self,title,price):\n",
    "        self.title = title\n",
    "        self.price = price\n",
    "\n",
    "class Periodical(Publication):\n",
    "    def __init__(self,title,price,period,publisher):\n",
    "        super().__init__(title,price)   # 1 , 2 \n",
    "        self.period = period            # 3\n",
    "        self.publisher = publisher      # 4\n",
    "\n",
    "class Book(Publication):\n",
    "    def __init__(self,title,author,pages,price):\n",
    "        self.author = author\n",
    "        self.pages = pages\n",
    "\n",
    "class Magazine(Periodical):\n",
    "    def __init__(self, title,publisher,price,period):\n",
    "        super().__init__(title,price,period,publisher)\n",
    "        #               (    1,    2,   3,          4)\n",
    "\n",
    "class Newspaper(Periodical):\n",
    "    def __init__(self, title,publisher,price,period):\n",
    "        super().__init__(title,price,period,publisher)\n",
    "\n",
    "\n",
    "b1 = Book(\"Nightingale\", \"Sarojini Naidu\",311,29.0)\n",
    "n1 = Newspaper(\"NY Times\", \"New York Times Company\",6.0,\"Daily\")\n",
    "m1 = Magazine(\"Scientific American\", \"Springer Nature\",5.99,\"Monthly\")\n",
    "\n",
    "print(b1.author)\n",
    "print(n1.publisher)\n",
    "print(b1.price,m1.price,n1.price)\n",
    "# ERROR because although we said we are inheriting, we didn't actually make an \n",
    "# internal constructor call to inherit the class attribrutes!!!\n",
    "# AttributeError: 'Book' object has no attribute 'price'"
   ]
  },
  {
   "cell_type": "markdown",
   "metadata": {},
   "source": [
    "### iii. Inheritance implemented in a set of Classes"
   ]
  },
  {
   "cell_type": "code",
   "execution_count": 5,
   "metadata": {},
   "outputs": [
    {
     "name": "stdout",
     "output_type": "stream",
     "text": [
      "Sarojini Naidu\n",
      "New York Times Company\n",
      "29.0 5.99 6.0\n"
     ]
    }
   ],
   "source": [
    "# FINAL FIX\n",
    "## Inheritance in Classes\n",
    "\n",
    "\"\"\"\n",
    "Notes on the need for inheritance among the set of classes:\n",
    "\n",
    "- Each of the these was a separate implementation.\n",
    "- We see that there is a lot of duplication among the data that each class holds.\n",
    "- We can improve the organization of these classes and make it easier to introduce\n",
    "new classes by implementing some inheritance and class hierarchy.\n",
    "\"\"\"\n",
    "\n",
    "# we define a new base class called publication and have that class to define \n",
    "# some common attribrutes\n",
    "\n",
    "class Publication:\n",
    "    def __init__(self,title,price):\n",
    "        self.title = title\n",
    "        self.price = price\n",
    "\n",
    "class Periodical(Publication):\n",
    "    def __init__(self,title,price,period,publisher):\n",
    "        super().__init__(title,price)   # 1 , 2 \n",
    "        self.period = period            # 3\n",
    "        self.publisher = publisher      # 4\n",
    "\n",
    "class Book(Publication):\n",
    "    def __init__(self,title,author,pages,price):\n",
    "        super().__init__(title,price)\n",
    "        self.author = author\n",
    "        self.pages = pages\n",
    "\n",
    "class Magazine(Periodical):\n",
    "    def __init__(self, title,publisher,price,period):\n",
    "        super().__init__(title,price,period,publisher)\n",
    "        #               (    1,    2,   3,          4)\n",
    "\n",
    "class Newspaper(Periodical):\n",
    "    def __init__(self, title,publisher,price,period):\n",
    "        super().__init__(title,price,period,publisher)\n",
    "\n",
    "\n",
    "b1 = Book(\"Nightingale\", \"Sarojini Naidu\",311,29.0)\n",
    "n1 = Newspaper(\"NY Times\", \"New York Times Company\",6.0,\"Daily\")\n",
    "m1 = Magazine(\"Scientific American\", \"Springer Nature\",5.99,\"Monthly\")\n",
    "\n",
    "print(b1.author)\n",
    "print(n1.publisher)\n",
    "print(b1.price,m1.price,n1.price)"
   ]
  },
  {
   "cell_type": "markdown",
   "metadata": {},
   "source": [
    "## 2.2 Abstract Base Classes\n"
   ]
  },
  {
   "cell_type": "markdown",
   "metadata": {},
   "source": [
    "### i. ABS: simple implementation"
   ]
  },
  {
   "cell_type": "markdown",
   "metadata": {},
   "source": [
    "Abstract Base Classes: Intro Note\n",
    "\n",
    "There's a fairly common design patten in programming where you want to provide \n",
    "a base class that defines a template for all other classes to inherit from but \n",
    "with a twist:\n",
    "1. You don't want consumers of your base class to be able to create instances \n",
    "of the base class itself because it's just intended to be a blueprint, it's \n",
    "just an idea. And you want sub-classes to provide concrete implementations of \n",
    "that idea.\n",
    "2. You want to enforce the constraint that there are certain methods in a base\n",
    "class that subclasses have to implement.This is where abstract base classes \n",
    "become really useful.\n"
   ]
  },
  {
   "cell_type": "code",
   "execution_count": 2,
   "metadata": {},
   "outputs": [
    {
     "name": "stdout",
     "output_type": "stream",
     "text": [
      "None\n",
      "None\n"
     ]
    }
   ],
   "source": [
    "# 1 | Standard implementation without ABC implementation\n",
    "\n",
    "class GraphicShape:\n",
    "    def __init__(self):\n",
    "        super().__init__()\n",
    "\n",
    "    def calcArea(self):\n",
    "        pass\n",
    "\n",
    "class Circle(GraphicShape):\n",
    "    def __init__(self, radius):\n",
    "        self.radius = radius\n",
    "\n",
    "class Square(GraphicShape):\n",
    "    def __init__(self,side):\n",
    "        self.side = side\n",
    "\n",
    "g = GraphicShape()\n",
    "\n",
    "c = Circle(10)\n",
    "print(c.calcArea())\n",
    "s = Square(12)\n",
    "print(s.calcArea())\n",
    "\n",
    "# Note: the calcArea function returns nothing, \n",
    "# because we didn't overwrite that in the sub-classes.\n",
    "# So: to fix this, we use the abc module from the Python standard library."
   ]
  },
  {
   "cell_type": "code",
   "execution_count": 6,
   "metadata": {},
   "outputs": [
    {
     "ename": "TypeError",
     "evalue": "Can't instantiate abstract class GraphicShape with abstract method calcArea",
     "output_type": "error",
     "traceback": [
      "\u001b[1;31m---------------------------------------------------------------------------\u001b[0m",
      "\u001b[1;31mTypeError\u001b[0m                                 Traceback (most recent call last)",
      "\u001b[1;32m~\\AppData\\Local\\Temp/ipykernel_10760/3343216727.py\u001b[0m in \u001b[0;36m<module>\u001b[1;34m\u001b[0m\n\u001b[0;32m     24\u001b[0m         \u001b[0mself\u001b[0m\u001b[1;33m.\u001b[0m\u001b[0mside\u001b[0m \u001b[1;33m=\u001b[0m \u001b[0mside\u001b[0m\u001b[1;33m\u001b[0m\u001b[1;33m\u001b[0m\u001b[0m\n\u001b[0;32m     25\u001b[0m \u001b[1;33m\u001b[0m\u001b[0m\n\u001b[1;32m---> 26\u001b[1;33m \u001b[0mg\u001b[0m \u001b[1;33m=\u001b[0m \u001b[0mGraphicShape\u001b[0m\u001b[1;33m(\u001b[0m\u001b[1;33m)\u001b[0m\u001b[1;33m\u001b[0m\u001b[1;33m\u001b[0m\u001b[0m\n\u001b[0m\u001b[0;32m     27\u001b[0m \u001b[1;33m\u001b[0m\u001b[0m\n\u001b[0;32m     28\u001b[0m \u001b[0mc\u001b[0m \u001b[1;33m=\u001b[0m \u001b[0mCircle\u001b[0m\u001b[1;33m(\u001b[0m\u001b[1;36m10\u001b[0m\u001b[1;33m)\u001b[0m\u001b[1;33m\u001b[0m\u001b[1;33m\u001b[0m\u001b[0m\n",
      "\u001b[1;31mTypeError\u001b[0m: Can't instantiate abstract class GraphicShape with abstract method calcArea"
     ]
    }
   ],
   "source": [
    "# 2 | ABC implementation\n",
    "\n",
    "from abc import ABC, abstractmethod\n",
    "\n",
    "# i. let graphic shape inherit from the ABC\n",
    "class GraphicShape(ABC):\n",
    "    def __init__(self):\n",
    "        super().__init__()\n",
    "\n",
    "    # ii. use the abstract method decorator to indicate that the calcAre function\n",
    "    # is an abstract method.\n",
    "    # this tells Python that there is no implementation in the base class \n",
    "    # and each sub-class has to overwrite this method\n",
    "    @abstractmethod\n",
    "    def calcArea(self):\n",
    "        pass\n",
    "\n",
    "class Circle(GraphicShape):\n",
    "    def __init__(self, radius):\n",
    "        self.radius = radius\n",
    "\n",
    "class Square(GraphicShape):\n",
    "    def __init__(self,side):\n",
    "        self.side = side\n",
    "\n",
    "\n",
    "g = GraphicShape()\n",
    "# TypeError: Can't instantiate abstract class GraphicShape with abstract method calcArea\n",
    "\n",
    "c = Circle(10)\n",
    "print(c.calcArea())\n",
    "s = Square(12)\n",
    "print(s.calcArea())"
   ]
  },
  {
   "cell_type": "code",
   "execution_count": 9,
   "metadata": {},
   "outputs": [
    {
     "name": "stdout",
     "output_type": "stream",
     "text": [
      "314.2\n",
      "144\n"
     ]
    }
   ],
   "source": [
    "# 2B | ABC implementation\n",
    "\n",
    "from abc import ABC, abstractmethod\n",
    "\n",
    "# i. let graphic shape inherit from the ABC\n",
    "class GraphicShape(ABC):\n",
    "    def __init__(self):\n",
    "        super().__init__()\n",
    "\n",
    "    # ii. use the abstract method decorator to indicate that the calcAre function\n",
    "    # is an abstract method.\n",
    "    # this tells Python that there is no implementation in the base class \n",
    "    # and each sub-class has to overwrite this method\n",
    "    @abstractmethod\n",
    "    def calcArea(self):\n",
    "        pass\n",
    "\n",
    "class Circle(GraphicShape):\n",
    "    def __init__(self, radius):\n",
    "        self.radius = radius\n",
    "    def calcArea(self):\n",
    "        return 3.142 * (self.radius)**2\n",
    "\n",
    "class Square(GraphicShape):\n",
    "    def __init__(self,side):\n",
    "        self.side = side\n",
    "    def calcArea(self):\n",
    "        return (self.side)**2\n",
    "\n",
    "# g = GraphicShape()\n",
    "# TypeError: Can't instantiate abstract class GraphicShape with abstract method calcArea\n",
    "\n",
    "c = Circle(10)\n",
    "print(c.calcArea())\n",
    "s = Square(12)\n",
    "print(s.calcArea())"
   ]
  },
  {
   "cell_type": "markdown",
   "metadata": {},
   "source": [
    "### ii. Inheritance from Multiple ABCs"
   ]
  },
  {
   "cell_type": "markdown",
   "metadata": {},
   "source": [
    "Inheritance from Multiple Abstract Base Classes: Intro Note\n",
    "\n",
    "Unlike many other programming languages, Python and C++ let classes inherit \n",
    "from multiple base classes. This is called Multiple Inheritance.\n",
    "\n",
    "But it must be used carefully."
   ]
  },
  {
   "cell_type": "code",
   "execution_count": 11,
   "metadata": {},
   "outputs": [
    {
     "name": "stdout",
     "output_type": "stream",
     "text": [
      "foo\n",
      "bar\n"
     ]
    }
   ],
   "source": [
    "# a | both class A and class B implement the attributes foo and bar respectively\n",
    "\n",
    "class A:\n",
    "    def __init__(self):\n",
    "        super().__init__()\n",
    "        self.foo = \"foo\"\n",
    "\n",
    "class B:\n",
    "    def __init__(self):\n",
    "        super().__init__()\n",
    "        self.bar = \"bar\"\n",
    "\n",
    "class C(A,B):\n",
    "    def __init__(self):\n",
    "        super().__init__()\n",
    "\n",
    "    def showprops(self):\n",
    "        print(self.foo)\n",
    "        print(self.bar)\n",
    "\n",
    "c= C()\n",
    "c.showprops()\n"
   ]
  },
  {
   "cell_type": "code",
   "execution_count": 12,
   "metadata": {},
   "outputs": [
    {
     "name": "stdout",
     "output_type": "stream",
     "text": [
      "foo\n",
      "bar\n",
      "Class A\n"
     ]
    }
   ],
   "source": [
    "# b | Inspect Method Resolution Order (MRO)\n",
    "\n",
    "class A:\n",
    "    def __init__(self):\n",
    "        super().__init__()\n",
    "        self.foo = \"foo\"\n",
    "        self.name = \"Class A\"\n",
    "\n",
    "class B:\n",
    "    def __init__(self):\n",
    "        super().__init__()\n",
    "        self.bar = \"bar\"\n",
    "        self.name = \"Class B\"\n",
    "\n",
    "class C(A,B):\n",
    "    def __init__(self):\n",
    "        super().__init__()\n",
    "\n",
    "    def showprops(self):\n",
    "        print(self.foo)\n",
    "        print(self.bar)\n",
    "        print(self.name)\n",
    "\n",
    "c= C()\n",
    "c.showprops()\n",
    "\n",
    "# Note that it printed Class A, although Class B also has the same property\n",
    "# REASON: Python Lookup looks first in the called class, and then into the \n",
    "# called classes: in order\n",
    "\n",
    "\"\"\"\n",
    "foo\n",
    "bar\n",
    "Class A\n",
    "\"\"\""
   ]
  },
  {
   "cell_type": "code",
   "execution_count": 19,
   "metadata": {},
   "outputs": [
    {
     "name": "stdout",
     "output_type": "stream",
     "text": [
      "foo\n",
      "bar\n",
      "Class B\n",
      "<class '__main__.C'>\n",
      "[<class '__main__.C'>, <class '__main__.B'>, <class '__main__.A'>, <class 'object'>]\n",
      "(<class '__main__.C'>, <class '__main__.B'>, <class '__main__.A'>, <class 'object'>)\n"
     ]
    },
    {
     "data": {
      "text/plain": [
       "'\\nfoo\\nbar\\nClass B\\n'"
      ]
     },
     "execution_count": 19,
     "metadata": {},
     "output_type": "execute_result"
    }
   ],
   "source": [
    "# c | MRO: Method Resolution Order for Lookup in a Class: example with a case of two\n",
    "#  ABC implementing the same property\n",
    "\n",
    "class A:\n",
    "    def __init__(self):\n",
    "        super().__init__()\n",
    "        self.foo = \"foo\"\n",
    "        self.name = \"Class A\"\n",
    "\n",
    "class B:\n",
    "    def __init__(self):\n",
    "        super().__init__()\n",
    "        self.bar = \"bar\"\n",
    "        self.name = \"Class B\"\n",
    "\n",
    "class C(B,A):           # we changed class call order -> this changes the MRO\n",
    "    def __init__(self):\n",
    "        super().__init__()\n",
    "\n",
    "    def showprops(self):\n",
    "        print(self.foo)\n",
    "        print(self.bar)\n",
    "        print(self.name)\n",
    "\n",
    "c= C()\n",
    "c.showprops()\n",
    "\n",
    "# Note that it printed Class B,, we changed the Method Resolution Order\n",
    "\n",
    "\"\"\"\n",
    "foo\n",
    "bar\n",
    "Class B\n",
    "\"\"\""
   ]
  },
  {
   "cell_type": "code",
   "execution_count": 25,
   "metadata": {},
   "outputs": [
    {
     "name": "stdout",
     "output_type": "stream",
     "text": [
      "[<class '__main__.C'>, <class '__main__.B'>, <class '__main__.A'>, <class 'object'>]\n"
     ]
    },
    {
     "data": {
      "text/plain": [
       "\"\\n<class '__main__.C'>\\n[<class '__main__.C'>, <class '__main__.B'>, <class '__main__.A'>, <class 'object'>]\\n(<class '__main__.C'>, <class '__main__.B'>, <class '__main__.A'>, <class 'object'>)\\n'\\nfoo\\nbar\\nClass B\\n'\\n\""
      ]
     },
     "execution_count": 25,
     "metadata": {},
     "output_type": "execute_result"
    }
   ],
   "source": [
    "# d | MRO: Method Resolution Order for Lookup in a Class: example with a case of two\n",
    "#  ABC implementing the same property\n",
    "\n",
    "class A:\n",
    "    def __init__(self):\n",
    "        super().__init__()\n",
    "        self.foo = \"foo\"\n",
    "        self.name = \"Class A\"\n",
    "\n",
    "class B:\n",
    "    def __init__(self):\n",
    "        super().__init__()\n",
    "        self.bar = \"bar\"\n",
    "        self.name = \"Class B\"\n",
    "\n",
    "class C(B,A):           # we changed class call order -> this changes the MRO\n",
    "    def __init__(self):\n",
    "        super().__init__()\n",
    "\n",
    "    def showprops(self):\n",
    "        print(self.foo)\n",
    "        print(self.bar)\n",
    "        print(self.name)\n",
    "\n",
    "c= C()\n",
    "# c.showprops()\n",
    "\n",
    "# print(C)\n",
    "# print(C.__mro__)            # although this is hidden, \n",
    "print(C.mro())              # it's still offered as a method.\n",
    "\n",
    "\"\"\"\n",
    "<class '__main__.C'>\n",
    "[<class '__main__.C'>, <class '__main__.B'>, <class '__main__.A'>, <class 'object'>]\n",
    "(<class '__main__.C'>, <class '__main__.B'>, <class '__main__.A'>, <class 'object'>)\n",
    "'\\nfoo\\nbar\\nClass B\\n'\n",
    "\"\"\"\n",
    "\n",
    "# Note: \n",
    "# you can see the method resolution order: \n",
    "#               Class C -> Class B -> Class -> Object\n",
    "# the object class is the implicit superclass for all classes in Python\n",
    "# \n",
    "# \n",
    "# This added complexity is one of the main reasons why you don't see a whole lot \n",
    "# of multiple inheritance in real world projects.\n",
    "# But there is a place where they are very useful, and this is implementing a \n",
    "# programming construct called as an Interface.\n"
   ]
  },
  {
   "cell_type": "markdown",
   "metadata": {},
   "source": [
    "### iii. Interfaces in Python"
   ]
  },
  {
   "cell_type": "markdown",
   "metadata": {},
   "source": [
    "Interfaces in Python: Info Note\n",
    "\n",
    "1. Here we see how we use abstract base classes and multiple inheritance to \n",
    "   implement a type of programming feature called an Interface.\n",
    "1. Some lamguages like C# and Java provide this feature as a built-in part of \n",
    "   the language. But Python doesnot have explicit language support for this. You\n",
    "   can think of an interface as a kind of promise.\n",
    "1. By implementing a particular class implements a kind of a promise/ a \n",
    "   contract as it's often called in Software Engineering to implement certain \n",
    "   kind of behaviuour and capability."
   ]
  },
  {
   "cell_type": "code",
   "execution_count": 27,
   "metadata": {},
   "outputs": [
    {
     "name": "stdout",
     "output_type": "stream",
     "text": [
      "314.2\n"
     ]
    }
   ],
   "source": [
    "# 1 | simple working example\n",
    "\n",
    "from abc import ABC, abstractmethod\n",
    "\n",
    "class GraphicShape(ABC):\n",
    "    def __init__(self):\n",
    "        super().__init__()\n",
    "    \n",
    "    @abstractmethod\n",
    "    def calcArea(self):\n",
    "        pass\n",
    "\n",
    "class Circle(GraphicShape):\n",
    "    def __init__(self,radius):\n",
    "        self.radius = radius\n",
    "    \n",
    "    def calcArea(self):\n",
    "        return 3.142*(self.radius**2)\n",
    "\n",
    "\n",
    "c = Circle(10)\n",
    "print(c.calcArea())"
   ]
  },
  {
   "cell_type": "code",
   "execution_count": 29,
   "metadata": {},
   "outputs": [
    {
     "ename": "TypeError",
     "evalue": "Can't instantiate abstract class Circle with abstract method toJSON",
     "output_type": "error",
     "traceback": [
      "\u001b[1;31m---------------------------------------------------------------------------\u001b[0m",
      "\u001b[1;31mTypeError\u001b[0m                                 Traceback (most recent call last)",
      "\u001b[1;32m~\\AppData\\Local\\Temp/ipykernel_10760/2891532291.py\u001b[0m in \u001b[0;36m<module>\u001b[1;34m\u001b[0m\n\u001b[0;32m     45\u001b[0m \u001b[1;33m\u001b[0m\u001b[0m\n\u001b[0;32m     46\u001b[0m \u001b[1;33m\u001b[0m\u001b[0m\n\u001b[1;32m---> 47\u001b[1;33m \u001b[0mc\u001b[0m \u001b[1;33m=\u001b[0m \u001b[0mCircle\u001b[0m\u001b[1;33m(\u001b[0m\u001b[1;36m10\u001b[0m\u001b[1;33m)\u001b[0m\u001b[1;33m\u001b[0m\u001b[1;33m\u001b[0m\u001b[0m\n\u001b[0m\u001b[0;32m     48\u001b[0m \u001b[0mprint\u001b[0m\u001b[1;33m(\u001b[0m\u001b[0mc\u001b[0m\u001b[1;33m.\u001b[0m\u001b[0mcalcArea\u001b[0m\u001b[1;33m(\u001b[0m\u001b[1;33m)\u001b[0m\u001b[1;33m)\u001b[0m\u001b[1;33m\u001b[0m\u001b[1;33m\u001b[0m\u001b[0m\n",
      "\u001b[1;31mTypeError\u001b[0m: Can't instantiate abstract class Circle with abstract method toJSON"
     ]
    }
   ],
   "source": [
    "# 2 | implementing a separate utility class as an Abstract Bae Class which is a \n",
    "# part of an interface....\n",
    "\"\"\"\n",
    "suppose we wanted our concrete shape objects to be represented as json,\n",
    "we could just make that as a part of the graphic base classes as a function.\n",
    "\n",
    "but if we wanted to implement that for other shape classes as well, then we \n",
    "would end up with a lot of code duplication. \n",
    "\n",
    "So we inturn define a separate abstract base class called to implement this \n",
    "funtionality, so it's accessible to all other child classes wanting to implement \n",
    "this functionality of converting to JSON!\n",
    "\n",
    "Note, this now just defines the name of the method, and doesnot provide any \n",
    "implementation itself. Now we add the new class to the definition of the circle \n",
    "class.\n",
    "- This has an effect of requiring that the Circle class had to override and \n",
    "implement the toJSON method, otherwise it's an ERROR!\n",
    "- \n",
    "\n",
    "02:53 04/05/2022\n",
    "\"\"\"\n",
    "\n",
    "from abc import ABC, abstractmethod\n",
    "\n",
    "class JSONify(ABC):\n",
    "    @abstractmethod\n",
    "    def toJSON(self):\n",
    "        pass\n",
    "\n",
    "class GraphicShape(ABC):\n",
    "    def __init__(self):\n",
    "        super().__init__()\n",
    "    \n",
    "    @abstractmethod\n",
    "    def calcArea(self):\n",
    "        pass\n",
    "\n",
    "class Circle(GraphicShape, JSONify):\n",
    "    def __init__(self,radius):\n",
    "        self.radius = radius\n",
    "    \n",
    "    def calcArea(self):\n",
    "        return 3.142*(self.radius**2)\n",
    "\n",
    "\n",
    "c = Circle(10)\n",
    "print(c.calcArea())\n",
    "\n",
    "# Note: This generates an Error as we didn't implement the real method in the \n",
    "# child class which calls the JSONify ABC\n",
    "\n",
    "\"\"\"\n",
    "TypeError: Can't instantiate abstract class Circle with abstract method toJSON\n",
    "\"\"\""
   ]
  },
  {
   "cell_type": "markdown",
   "metadata": {},
   "source": [
    "##### Short Note on JSON"
   ]
  },
  {
   "cell_type": "markdown",
   "metadata": {},
   "source": [
    " What is a JSON string?\n",
    "\n",
    "- JSON is a text-based data format following JavaScript object syntax. \n",
    "JSON exists as a string — useful when you want to transmit data across a\n",
    "network. It needs to be converted to a native JavaScript object when \n",
    "you want to access the data.\n",
    "\n",
    "- JSON is a standard.\n",
    "\n",
    "- Example:\n",
    "\n",
    "    ```js\n",
    "    /*Lets say server want to send the variable 'a' which is a \n",
    "        JSON String*/\n",
    "    a = ‘{“name”:”HELLO”, “age”: 2000}’;\n",
    "\n",
    "    /*When a client want to use this data,first it will have to \n",
    "    convert 'JSON string' into an object.We can do that using \n",
    "    JSON.parse().*/\n",
    "\n",
    "    b = JSON.parse(a);\n",
    "\n",
    "    /*Now b become an object and now it is ready to be used and it \n",
    "    looks like: {“name”:”HELLO”,“age”:2000}. Notice it is not quoted \n",
    "    anymore like in JSON string above. */\n",
    "    console.log(b[\"name\"]); //this would display HELLO.\n",
    "    ```\n",
    "\n",
    "https://stackoverflow.com/questions/54122999/is-json-a-string\n",
    "\n",
    "\n",
    "- Explanation 2\n",
    "\n",
    "    From the context of data - JSON is not a string. It represents data in Key-Value pairs. It follows it's own validation strategy. It has it's own set of rules.\n",
    "\n",
    "    If your context is about how it's transmitted over the network, HTTP usually converts it to a raw string as specified by @samuel-toh.\n",
    "\n",
    "    Even in your code (if you're using let's say Javascript) you can convert it to a string by calling:\n",
    "\n",
    "    JSON.stringify(yourJSONObject);\n",
    "\n",
    "    And can convert it back to programmable Javascript Object by calling:\n",
    "\n",
    "    JSON.parse(stringifiedJSON);\n",
    "\n",
    "    So to answer your question:\n",
    "\n",
    "    No, JSON is not a string. It's a data structure.\n",
    "\n",
    "https://stackoverflow.com/questions/54122999/is-json-a-string"
   ]
  },
  {
   "cell_type": "markdown",
   "metadata": {},
   "source": [
    "##### FINAL IMPLEMENTATION"
   ]
  },
  {
   "cell_type": "code",
   "execution_count": 37,
   "metadata": {},
   "outputs": [
    {
     "name": "stdout",
     "output_type": "stream",
     "text": [
      "314.2\n",
      "'circle:' : 314.2\n"
     ]
    },
    {
     "data": {
      "text/plain": [
       "\"\\nNOTE- Now what we have essentially done is created a very small focussed class,\\ncalled jsonify, that we can now use whenever we want another class to be able to \\nindicate that it knows how to represent itself in json. We didn't have to \\nmodify the GraphicShape base class, in order to do this, which gives us the \\nflexibility to apply this new class which is serving the function of an interface\\nanywhere it's needed.\\n\\nSo interfaces are really useful for declaring that a class has a capability, that\\nit knows how to provide. Even though Python doesn't have explicit language \\nsupport for them, it's flexible enough to implement it with Abstract Base Classes\\nand Multiple-Inheritance.\\n\\n03:27 04/05/2022\\n\""
      ]
     },
     "execution_count": 37,
     "metadata": {},
     "output_type": "execute_result"
    }
   ],
   "source": [
    "# 3 | implementing a separate utility class as an Abstract Bae Class which is a \n",
    "# part of an interface....\n",
    "\n",
    "\"\"\"\n",
    "Here we implement the promised method, to make the code working again!\n",
    "\n",
    "03:01 04/05/2022\n",
    "\"\"\"\n",
    "\n",
    "from abc import ABC, abstractmethod\n",
    "import json\n",
    "\n",
    "class JSONify(ABC):\n",
    "    @abstractmethod\n",
    "    def toJSON(self):\n",
    "        pass\n",
    "\n",
    "class GraphicShape(ABC):\n",
    "    def __init__(self):\n",
    "        super().__init__()\n",
    "    \n",
    "    @abstractmethod\n",
    "    def calcArea(self):\n",
    "        pass\n",
    "\n",
    "class Circle(GraphicShape, JSONify):\n",
    "    def __init__(self,radius):\n",
    "        self.radius = radius\n",
    "    \n",
    "    def calcArea(self):\n",
    "        return 3.142*(self.radius**2)\n",
    "\n",
    "    def toJSON(self):\n",
    "        # Python 2.7 style\n",
    "        # return \"'circle:' : {}\".format(self.calcArea())\n",
    "        # Python 3.9 style: using the new f-string specifier\n",
    "        return f\"'circle:' : {self.calcArea()}\"\n",
    "\n",
    "c = Circle(10)\n",
    "print(c.calcArea())\n",
    "\n",
    "print(c.toJSON())\n",
    "\n",
    "\"\"\"\n",
    "314.2\n",
    "'circle:' : 314.2\n",
    "\"\"\"\n",
    "\n",
    "\"\"\"\n",
    "NOTE- Now what we have essentially done is created a very small focussed class,\n",
    "called jsonify, that we can now use whenever we want another class to be able to \n",
    "indicate that it knows how to represent itself in json. We didn't have to \n",
    "modify the GraphicShape base class, in order to do this, which gives us the \n",
    "flexibility to apply this new class which is serving the function of an interface\n",
    "anywhere it's needed.\n",
    "\n",
    "So interfaces are really useful for declaring that a class has a capability, that\n",
    "it knows how to provide. Even though Python doesn't have explicit language \n",
    "support for them, it's flexible enough to implement it with Abstract Base Classes\n",
    "and Multiple-Inheritance.\n",
    "\n",
    "03:27 04/05/2022\n",
    "\"\"\""
   ]
  },
  {
   "cell_type": "markdown",
   "metadata": {},
   "source": [
    "### iv. Using Composition"
   ]
  },
  {
   "cell_type": "markdown",
   "metadata": {},
   "source": [
    "Using Composition: Info Note\n",
    "\n",
    "1. In this example we see how we can use a concept called Composition to built\n",
    "   complex objects out of simpler ones.\n",
    "2. Inheritance models an-is type of relationship. (see diagram below)\n",
    "   1. A Book Object is a publication because it inherits from he publication\n",
    "      because it inherits all the attributes and methods from the base class.\n",
    "   2. Similarly, the Magazine is a Periodical and we can say that a Magazine is \n",
    "      a Publication, because again it has the same common base-class.\n",
    "\n",
    "Composition works a little differently. When using composition, we build objects\n",
    "out of other objects. And this model is more of a \"has\" relationship. (see diagram2 below)\n",
    "\n",
    "Eg. The Book Object has an Author object, which contains information about the author, rather than defining all the author related information directly within the book class hierarchy.\n",
    "\n",
    "This type of model lets us extract distinct ideas and put them into their own classes.\n",
    "\n",
    "Now, inheritance and composition are not exclusive, you can combine both depending on what your application needs are."
   ]
  },
  {
   "cell_type": "code",
   "execution_count": null,
   "metadata": {},
   "outputs": [],
   "source": [
    "\"\"\"\n",
    "DIAGRAM 1\n",
    "IS-TYPE RELATIONSHIP EXHIBITED BY THE INHERITANCE CONCEPT\n",
    "\n",
    "        +----------------+\n",
    "        |                |\n",
    "        |    PUBLICATION |\n",
    "        |                |\n",
    "        +-------+--------+\n",
    "                |\n",
    "                |\n",
    "          +-----v--------+\n",
    "          |              |\n",
    "+---------v----+      +--v-------+\n",
    "|              |      |          |\n",
    "|  PERIODICAL  |      |  BOOK    |\n",
    "|              |      |          |\n",
    "+---------+----+      +----------+\n",
    "          |\n",
    "+---------v----+\n",
    "|              |\n",
    "|  MAGAZINE    |\n",
    "|              |\n",
    "+--------------+\n",
    "\n",
    "https://asciiflow.com/#/\n",
    "\"\"\""
   ]
  },
  {
   "cell_type": "code",
   "execution_count": null,
   "metadata": {},
   "outputs": [],
   "source": [
    "\"\"\"\n",
    "DIAGRAM 2\n",
    "HAS-TYPE RELATIONSHIP EXHIBITED BY THE COMPOSITION CONCEPT\n",
    "\n",
    "+-------------------------+         +---------------------+\n",
    "|                         |         |                     |\n",
    "|      BOOK               |   +---->|   AUTHOR            |\n",
    "|                         |   |     |                     |\n",
    "|  +------------------+   |   |     |  +---------------+  |\n",
    "|  |   TITLE          |   |   |     |  | FIRST NAME    |  |\n",
    "|  +------------------+   |   |     |  +---------------+  |\n",
    "|                         |   |     |                     |\n",
    "|  +------------------+   |   |     |  +---------------+  |\n",
    "|  |  PRICE           |   |   |     |  | LAST NAME     |  |\n",
    "|  +------------------+   |   |     |  +---------------+  |\n",
    "|                         |   |     |                     |\n",
    "|  +------------------+   |   |     +---------------------+\n",
    "|  |  AUTHOR          +---+---+\n",
    "|  +------------------+   |\n",
    "|                         |\n",
    "+-------------------------+\n",
    "\n",
    "https://asciiflow.com/#/\n",
    "03:56 04/05/2022\n",
    "\"\"\""
   ]
  },
  {
   "cell_type": "code",
   "execution_count": 38,
   "metadata": {},
   "outputs": [
    {
     "name": "stdout",
     "output_type": "stream",
     "text": [
      "War and Peace\n"
     ]
    },
    {
     "data": {
      "text/plain": [
       "\"\\nthis particluar class definition is all fine and good, but it's monolithic.\\n- there are pieces of information like author information and chapter information \\nthat might sense to treat as separate entities.\\n\\n- it's not to imagine a scenario that we might want to work with a group of authors\\nor get information about specific book chapters. \\n\\nSo we can use COMPOSITION to separate these pieces of dicreet information from the \\noverall book objectc\\n\""
      ]
     },
     "execution_count": 38,
     "metadata": {},
     "output_type": "execute_result"
    }
   ],
   "source": [
    "# 1. Simple monolithic class scenario\n",
    "\n",
    "class Book:\n",
    "    def __init__(self, title, price, authorfname, authorlname):\n",
    "        self.title = title\n",
    "        self.price = price\n",
    "\n",
    "        self.authorfname = authorfname\n",
    "        self.authorlname = authorlname\n",
    "\n",
    "        self.chapters = []\n",
    "    \n",
    "    def addchapter(self,name,pages):\n",
    "        self.chapters.append((name,pages))      # adds a tuple to the 'chapters' collection\n",
    "\n",
    "b1 = Book(\"War and Peace\",39,\"Leo\", \"Tolstoy\")\n",
    "\n",
    "b1.addchapter(\"Chapter 1\",125)\n",
    "b1.addchapter(\"Chapter 2\",97)\n",
    "b1.addchapter(\"Chapter 3\",143)\n",
    "\n",
    "print(b1.title)\n",
    "\n",
    "\n",
    "\"\"\"\n",
    "this particluar class definition is all fine and good, but it's monolithic.\n",
    "- there are pieces of information like author information and chapter information \n",
    "that might sense to treat as separate entities.\n",
    "\n",
    "- it's not to imagine a scenario that we might want to work with a group of authors\n",
    "or get information about specific book chapters. \n",
    "\n",
    "So we can use COMPOSITION to separate these pieces of dicreet information from the \n",
    "overall book object.\n",
    "\"\"\""
   ]
  },
  {
   "cell_type": "code",
   "execution_count": 45,
   "metadata": {},
   "outputs": [
    {
     "name": "stdout",
     "output_type": "stream",
     "text": [
      "<__main__.Author object at 0x000000FC0279E130>\n",
      "War and Peace\n"
     ]
    }
   ],
   "source": [
    "# 2 | Extracting the Author information into it's own class\n",
    "\n",
    "class Book:\n",
    "    def __init__(self, title, price, author= None):\n",
    "        self.title = title\n",
    "        self.price = price\n",
    "\n",
    "        self.author = author\n",
    "\n",
    "        self.chapters = []\n",
    "    \n",
    "    def addchapter(self,name,pages):\n",
    "        self.chapters.append((name,pages))      # adds a tuple to the 'chapters' collection\n",
    "\n",
    "class Author:\n",
    "    def __init__(self,fname,lname):\n",
    "        # we store these on some attributes of the object\n",
    "        self.fname = fname\n",
    "        self.lname = lname\n",
    "\n",
    "    # we give the author class a nice string representation using a magic method\n",
    "    # we overwrite the string method to return a nicely formatted string \n",
    "    def __string__(self):\n",
    "        return f\"{self.fname} {self.lname}\"\n",
    "\n",
    "\"\"\"\n",
    "Hence we created a relationship where a book HAS an author associated with it,\n",
    "instead of keeping the information associated with the Author data wrapped up\n",
    "within the book class.\n",
    "04:15 04/05/2022\n",
    "\"\"\"\n",
    "\n",
    "# b1 = Book(\"War and Peace\",39,\"Leo\", \"Tolstoy\")\n",
    "b1 = Book(\"War and Peace\",39,Author(\"Leo\", \"Tolstoy\"))\n",
    "\n",
    "b1.addchapter(\"Chapter 1\",125)\n",
    "b1.addchapter(\"Chapter 2\",97)\n",
    "b1.addchapter(\"Chapter 3\",143)\n",
    "\n",
    "print(b1.author)\n",
    "print(b1.title)"
   ]
  },
  {
   "cell_type": "code",
   "execution_count": 49,
   "metadata": {},
   "outputs": [
    {
     "name": "stdout",
     "output_type": "stream",
     "text": [
      "Leo Tolstoy\n",
      "War and Peace\n",
      "143\n"
     ]
    }
   ],
   "source": [
    "# 2B | Extracting the Chapter information into it's own class\n",
    "\n",
    "class Book:\n",
    "    def __init__(self, title, price, author= None):\n",
    "        self.title = title\n",
    "        self.price = price\n",
    "\n",
    "        self.author = author\n",
    "        self.chapters = []\n",
    "    \n",
    "    # def addchapter(self,name,pages):\n",
    "    #    self.chapters.append((name,pages))      # adds a tuple to the 'chapters' collection\n",
    "\n",
    "    def addchapter(self,chapter):\n",
    "        self.chapters.append(chapter)\n",
    "\n",
    "    def getbookpagecount(self):\n",
    "        result = 0\n",
    "        for ch in self.chapters:\n",
    "            result =+ ch.pagecount\n",
    "        return result\n",
    "\n",
    "class Author:\n",
    "    def __init__(self,fname,lname):\n",
    "        # we store these on some attributes of the object\n",
    "        self.fname = fname\n",
    "        self.lname = lname\n",
    "    # we give the author class a nice string representation using a magic method\n",
    "    # we overwrite the string method to return a nicely formatted string \n",
    "    def __str__(self):\n",
    "        return f\"{self.fname} {self.lname}\"\n",
    "\n",
    "class Chapter:\n",
    "    def __init__(self,name, pagecount):\n",
    "        self.name = name\n",
    "        self.pagecount = pagecount\n",
    "\n",
    "auth = Author(\"Leo\",\"Tolstoy\")\n",
    "#b1 = Book(\"War and Peace\",39,\"Leo\", \"Tolstoy\")\n",
    "b1 = Book(\"War and Peace\",39,auth)\n",
    "\n",
    "# b1.addchapter(\"Chapter 1\",125)\n",
    "# b1.addchapter(\"Chapter 2\",97)\n",
    "# b1.addchapter(\"Chapter 3\",143)\n",
    "b1.addchapter(Chapter(\"Chapter 1\",125))\n",
    "b1.addchapter(Chapter(\"Chapter 2\",97))\n",
    "b1.addchapter(Chapter(\"Chapter 3\",143))\n",
    "\n",
    "print(b1.author)\n",
    "print(b1.title)\n",
    "print(b1.getbookpagecount())\n",
    "\n",
    "\"\"\"\n",
    "04:35 04/05/2022\n",
    "\n",
    "SUMMARY: So what we have done is taken a \"monolithic\" class definition,\n",
    "and made it more extandable and flexible by composing it from simpler class \n",
    "objects, each of which is responsible for it's own features and data.\n",
    "\"\"\""
   ]
  },
  {
   "cell_type": "markdown",
   "metadata": {},
   "source": [
    "## QUIZ"
   ]
  },
  {
   "cell_type": "code",
   "execution_count": null,
   "metadata": {},
   "outputs": [],
   "source": []
  },
  {
   "cell_type": "code",
   "execution_count": null,
   "metadata": {},
   "outputs": [],
   "source": []
  }
 ],
 "metadata": {
  "interpreter": {
   "hash": "6d46af94c2bbce495f1e668725902fa517c90b1782bcfe2fce0dd9868df553d3"
  },
  "kernelspec": {
   "display_name": "Python 3.9.7 ('base')",
   "language": "python",
   "name": "python3"
  },
  "language_info": {
   "codemirror_mode": {
    "name": "ipython",
    "version": 3
   },
   "file_extension": ".py",
   "mimetype": "text/x-python",
   "name": "python",
   "nbconvert_exporter": "python",
   "pygments_lexer": "ipython3",
   "version": "3.9.7"
  },
  "orig_nbformat": 4
 },
 "nbformat": 4,
 "nbformat_minor": 2
}
